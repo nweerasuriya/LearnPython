{
 "cells": [
  {
   "cell_type": "markdown",
   "metadata": {},
   "source": [
    "\n",
    "---\n",
    "\n",
    "# Core Python, Part 3: Program Structure and Control Flow\n",
    "\n",
    "---\n",
    "\n",
    "# Statements, Conventions and Scope \n",
    "\n",
    "## Python Statements\n",
    "\n",
    "A statement is an instruction that the Python Interpreter can execute.\n",
    "\n",
    "Some statements have a *result*:"
   ]
  },
  {
   "cell_type": "code",
   "execution_count": 1,
   "metadata": {},
   "outputs": [
    {
     "data": {
      "text/plain": [
       "'hello, Kubrick people!'"
      ]
     },
     "execution_count": 1,
     "metadata": {},
     "output_type": "execute_result"
    }
   ],
   "source": [
    "# The following statement has the result '2':\n",
    "1+1\n",
    "\n",
    "# this one has a result of '3':\n",
    "\n",
    "len(['a', 'b', 'c'])\n",
    "\n",
    "\n",
    "# When you run a Jupyter Notebook codebook cell, \n",
    "# it displays the result of the final statement it executes (runs):\n",
    "\n",
    "'hello,' + ' Kubrick ' + 'people!'"
   ]
  },
  {
   "cell_type": "markdown",
   "metadata": {},
   "source": [
    "Many Python statements don't have a result.\n",
    "\n",
    "In all the statements below, the result is `None`:"
   ]
  },
  {
   "cell_type": "code",
   "execution_count": 2,
   "metadata": {},
   "outputs": [
    {
     "name": "stdout",
     "output_type": "stream",
     "text": [
      "the print function returns None\n"
     ]
    }
   ],
   "source": [
    "# The print function doesn't return anything,\n",
    "# so result of the following statement is None\n",
    "\n",
    "print('the print function returns None')\n",
    "\n",
    "# assignment statements don't have a result, either:\n",
    "# so result of the following statement is also None:\n",
    "\n",
    "x=1\n",
    "\n",
    "# If the final statement to be executed has a None result, \n",
    "# then there won't be any output from the cell:\n",
    "\n",
    "x = \"this won't be printed out below the cell\""
   ]
  },
  {
   "cell_type": "markdown",
   "metadata": {},
   "source": [
    "## Statements and Line Breaks\n",
    "\n",
    "\n",
    "Usually, we write one statement per line.\n",
    "\n",
    "It's OK to break a statement across multiple lines:\n",
    "        "
   ]
  },
  {
   "cell_type": "code",
   "execution_count": 3,
   "metadata": {},
   "outputs": [
    {
     "name": "stdout",
     "output_type": "stream",
     "text": [
      "Period\n",
      "One blue egg all summer long\n",
      "Now gone\n"
     ]
    }
   ],
   "source": [
    "# Linebreaks can improve readability by making patterns more visible:\n",
    "\n",
    "sobel_operator = [\n",
    "    [-1, 0, 1], \n",
    "    [-2, 0, 2], \n",
    "    [-1, 0, 1] \n",
    "]\n",
    "\n",
    "# lines of code shouldn't be more than 79 characters in any case     here:         |\n",
    "# (so that it's easier to work with documents side-by-side)                        v\n",
    "\n",
    "\n",
    "# It's called implicit line continuation if a bracket is left open over a line break\n",
    "# like with this dictionary definition:\n",
    "\n",
    "lunch_order = {\n",
    "    'starter':'spam', \n",
    "    'main':   'beans', \n",
    "    'desert': 'spam'\n",
    "}\n",
    "    \n",
    "# It's called explicit line continuation if there's a '\\' at the end of a line \n",
    "# (to escape the subseqent newline character):\n",
    "\n",
    "haiku = 'Period\\n' \\\n",
    "      + 'One blue egg all summer long\\n' \\\n",
    "      + 'Now gone'\n",
    "\n",
    "print(haiku)"
   ]
  },
  {
   "cell_type": "markdown",
   "metadata": {},
   "source": [
    "It's also (sometimes) ok to have more than one statement on a single line. \n",
    "\n",
    "Do this by separating the statements with semicolons, but ...\n",
    "- It's generally only used for short initialization statements\n",
    "- Used elsewhere, it tends to make code less readable, so avoid! \n"
   ]
  },
  {
   "cell_type": "code",
   "execution_count": 4,
   "metadata": {},
   "outputs": [
    {
     "data": {
      "text/plain": [
       "[' third item', 'Second item', 'first item']"
      ]
     },
     "execution_count": 4,
     "metadata": {},
     "output_type": "execute_result"
    }
   ],
   "source": [
    "# It's OK to put short initialization statements on one line. \n",
    "# So, this is OK:\n",
    "\n",
    "a=1; b=2\n",
    "\n",
    "# But rarely used elsewhere. It makes code less readable.\n",
    "# So, this is WRONG:\n",
    "\n",
    "my_list = ['first item', 'Second item', ' third item']; my_list.sort()\n",
    "\n",
    "my_list"
   ]
  },
  {
   "cell_type": "markdown",
   "metadata": {},
   "source": [
    "## PEP 8 and Other Conventions\n",
    "\n",
    "\n",
    "### PEP 8\n",
    "\n",
    "Many developers aim to follow the [PEP 8 style guide](https://www.python.org/dev/peps/pep-0008/). Some highlights:\n",
    "- Use four spaces per indent (not a tab character)\n",
    "- Lines of code shouldn't exceed 79 characters\n",
    "- Surround top-level function and class definitions with two blank lines.\n",
    "- When splitting lines, put the operator at the beginning of each line (see haiku example above) \n",
    "\n",
    "### 1.3.2 Function Documentation:\n",
    "\n",
    "It's good practice to write help text: this goes directly after the definition statement, in triple-quotes, as follows:\n"
   ]
  },
  {
   "cell_type": "code",
   "execution_count": 5,
   "metadata": {},
   "outputs": [],
   "source": [
    "# Define our own function with our own documentation string\n",
    "def my_function(my_list):\n",
    "    '''\n",
    "    Function that prints out 'Dance Dance Dance!', then returns the sum of elements in my_list.\n",
    "    \n",
    "    Arguments:\n",
    "    ----------\n",
    "    my_list: a list of numbers\n",
    "    '''\n",
    "    my_sum = sum(my_list)\n",
    "    print('Dance Dance Dance!')\n",
    "    return my_sum"
   ]
  },
  {
   "cell_type": "code",
   "execution_count": 6,
   "metadata": {},
   "outputs": [
    {
     "name": "stdout",
     "output_type": "stream",
     "text": [
      "Help on function my_function in module __main__:\n",
      "\n",
      "my_function(my_list)\n",
      "    Function that prints out 'Dance Dance Dance!', then returns the sum of elements in my_list.\n",
      "    \n",
      "    Arguments:\n",
      "    ----------\n",
      "    my_list: a list of numbers\n",
      "\n"
     ]
    }
   ],
   "source": [
    "help(my_function)"
   ]
  },
  {
   "cell_type": "markdown",
   "metadata": {},
   "source": [
    "### Linting and Type Hinting\n",
    "\n",
    "Although we won't be using Linting and Type Hinting in this module, we briefly mention it here, so that you will be prepared for it when you see it. \n",
    "\n",
    "- 'Linting' is the process of detecting potential issues with the source code. These are departures from syntactical and stylistic conventions that can create problems either now or in future. Some development teams require all contributed source code to be 'lint-free', i.e. complying with all syntactical and stylistic conventions. \n",
    "    \n",
    "- 'Type Hinting' can optionally be used in Python source code, to specify the expected types of the objects in the program. An example is shown below. We will not use type hinting in these notebooks, but you may see this in client respositories  "
   ]
  },
  {
   "cell_type": "code",
   "execution_count": 7,
   "metadata": {},
   "outputs": [
    {
     "data": {
      "text/plain": [
       "True"
      ]
     },
     "execution_count": 7,
     "metadata": {},
     "output_type": "execute_result"
    }
   ],
   "source": [
    "from typing import Dict\n",
    "\n",
    "# the 'name' argument should be a string,     hence name : str\n",
    "# the 'number' argument should be an integer, hence number : int\n",
    "# the 'phone_book' argument should be a Dict, hence book : Dict[str, int] \n",
    "# return value should be a boolean,           hence    -> bool\n",
    "\n",
    "def add_to_phone_book(name : str, \n",
    "                      number : int, \n",
    "                      book : Dict[str, int]) -> bool:\n",
    "    if name in book:\n",
    "        return False\n",
    "    else:\n",
    "        book[name] = number\n",
    "        return True\n",
    "    \n",
    "phone_book = {}\n",
    "#add_to_phone_book('Alice', 1234, phone_book)\n",
    "add_to_phone_book('Alice', \"number\", phone_book)"
   ]
  },
  {
   "cell_type": "markdown",
   "metadata": {},
   "source": [
    "## Scope  \n",
    "\n",
    "The built-in function `dir` gives a list of all the objects available in the current scope.\n",
    "\n"
   ]
  },
  {
   "cell_type": "code",
   "execution_count": 10,
   "metadata": {},
   "outputs": [
    {
     "data": {
      "text/plain": [
       "['Dict',\n",
       " 'In',\n",
       " 'Out',\n",
       " '_',\n",
       " '_1',\n",
       " '_4',\n",
       " '_7',\n",
       " '_8',\n",
       " '_9',\n",
       " '__',\n",
       " '___',\n",
       " '__builtin__',\n",
       " '__builtins__',\n",
       " '__doc__',\n",
       " '__loader__',\n",
       " '__name__',\n",
       " '__package__',\n",
       " '__spec__',\n",
       " '_dh',\n",
       " '_i',\n",
       " '_i1',\n",
       " '_i10',\n",
       " '_i2',\n",
       " '_i3',\n",
       " '_i4',\n",
       " '_i5',\n",
       " '_i6',\n",
       " '_i7',\n",
       " '_i8',\n",
       " '_i9',\n",
       " '_ih',\n",
       " '_ii',\n",
       " '_iii',\n",
       " '_oh',\n",
       " 'a',\n",
       " 'add_to_phone_book',\n",
       " 'b',\n",
       " 'exit',\n",
       " 'get_ipython',\n",
       " 'haiku',\n",
       " 'lunch_order',\n",
       " 'my_function',\n",
       " 'my_list',\n",
       " 'phone_book',\n",
       " 'quit',\n",
       " 'sobel_operator',\n",
       " 'x']"
      ]
     },
     "execution_count": 10,
     "metadata": {},
     "output_type": "execute_result"
    }
   ],
   "source": [
    "dir()"
   ]
  },
  {
   "cell_type": "markdown",
   "metadata": {},
   "source": [
    "It returns a list of objects, which includes:\n",
    "- The objects we have created in our programs, e.g. `haiku`, `phone_book`, `sobel_operator` (assuming that the relevant code cells have been executed)\n",
    "- Some objects that are specific to Jupyter notebooks, e.g. `In` and `Out` are lists containing the input code and output result of the cells that have been run \n",
    "- Some objects that are used by Python to control the Program Structure. For example, the `__name__` object is a string that can  shows the current scope:\n"
   ]
  },
  {
   "cell_type": "code",
   "execution_count": 11,
   "metadata": {
    "scrolled": true
   },
   "outputs": [
    {
     "name": "stdout",
     "output_type": "stream",
     "text": [
      "__main__\n"
     ]
    }
   ],
   "source": [
    "print(__name__)"
   ]
  },
  {
   "cell_type": "markdown",
   "metadata": {},
   "source": [
    "The value of `__name__` is automatically set to `__main__` when running code in a Jupyter notebook, or directly in a Python file. When running code in a module, or from inside a class, the value of `__name__` is different. This feature is used to control how code in Python files are executed.   \n",
    "\n",
    "Lots of items in the list returned by `dir()` start with a `__`. This double-underscore ( or 'dunder') is a Python convention for special names that are used 'behind the scenes' to make Python work. \n",
    "\n",
    "We can pass in a variable name as an argument to the `dir` function: in this case it gives a list of the available methods for this object:   "
   ]
  },
  {
   "cell_type": "code",
   "execution_count": 12,
   "metadata": {},
   "outputs": [
    {
     "data": {
      "text/plain": [
       "['__abs__',\n",
       " '__add__',\n",
       " '__and__',\n",
       " '__bool__',\n",
       " '__ceil__',\n",
       " '__class__',\n",
       " '__delattr__',\n",
       " '__dir__',\n",
       " '__divmod__',\n",
       " '__doc__',\n",
       " '__eq__',\n",
       " '__float__',\n",
       " '__floor__',\n",
       " '__floordiv__',\n",
       " '__format__',\n",
       " '__ge__',\n",
       " '__getattribute__',\n",
       " '__getnewargs__',\n",
       " '__gt__',\n",
       " '__hash__',\n",
       " '__index__',\n",
       " '__init__',\n",
       " '__init_subclass__',\n",
       " '__int__',\n",
       " '__invert__',\n",
       " '__le__',\n",
       " '__lshift__',\n",
       " '__lt__',\n",
       " '__mod__',\n",
       " '__mul__',\n",
       " '__ne__',\n",
       " '__neg__',\n",
       " '__new__',\n",
       " '__or__',\n",
       " '__pos__',\n",
       " '__pow__',\n",
       " '__radd__',\n",
       " '__rand__',\n",
       " '__rdivmod__',\n",
       " '__reduce__',\n",
       " '__reduce_ex__',\n",
       " '__repr__',\n",
       " '__rfloordiv__',\n",
       " '__rlshift__',\n",
       " '__rmod__',\n",
       " '__rmul__',\n",
       " '__ror__',\n",
       " '__round__',\n",
       " '__rpow__',\n",
       " '__rrshift__',\n",
       " '__rshift__',\n",
       " '__rsub__',\n",
       " '__rtruediv__',\n",
       " '__rxor__',\n",
       " '__setattr__',\n",
       " '__sizeof__',\n",
       " '__str__',\n",
       " '__sub__',\n",
       " '__subclasshook__',\n",
       " '__truediv__',\n",
       " '__trunc__',\n",
       " '__xor__',\n",
       " 'as_integer_ratio',\n",
       " 'bit_length',\n",
       " 'conjugate',\n",
       " 'denominator',\n",
       " 'from_bytes',\n",
       " 'imag',\n",
       " 'numerator',\n",
       " 'real',\n",
       " 'to_bytes']"
      ]
     },
     "execution_count": 12,
     "metadata": {},
     "output_type": "execute_result"
    }
   ],
   "source": [
    "x=1\n",
    "# lists all the 'attributes' of x, including its methods: \n",
    "dir(x)"
   ]
  },
  {
   "cell_type": "markdown",
   "metadata": {},
   "source": [
    "## Magic ('dunder') Methods\n",
    "\n",
    "The above list of methods includes many that start with a 'dunder' ('`__`').\n",
    "\n",
    "\n",
    "\n",
    "These dunder methods are sometimes called magic methods because they are used 'behind the scenes' to make objects work in the ways we have already seen. \n",
    "\n",
    "Some examples are given below:"
   ]
  },
  {
   "cell_type": "code",
   "execution_count": 13,
   "metadata": {},
   "outputs": [
    {
     "name": "stdout",
     "output_type": "stream",
     "text": [
      "a + b =  500\n"
     ]
    }
   ],
   "source": [
    "# behing the scenes, the '+' operator uses the __add__() method:\n",
    "a = 200; b = 300\n",
    "c = a.__add__(b)\n",
    "print('a + b = ', c)"
   ]
  },
  {
   "cell_type": "code",
   "execution_count": 14,
   "metadata": {},
   "outputs": [
    {
     "name": "stdout",
     "output_type": "stream",
     "text": [
      "s1 + s2 =  hello people!\n"
     ]
    }
   ],
   "source": [
    "# String objects also have an __add__() method, that works differently:\n",
    "s1 = 'hello '\n",
    "s2 = 'people!'\n",
    "s3 = s1.__add__(s2)\n",
    "print('s1 + s2 = ', s3)"
   ]
  },
  {
   "cell_type": "code",
   "execution_count": 15,
   "metadata": {},
   "outputs": [
    {
     "name": "stdout",
     "output_type": "stream",
     "text": [
      "the print function automatically calls an object's  __str__() method, so all these are the same:\n",
      "<class 'int'>\n",
      "<class 'int'>\n",
      "<class 'int'>\n"
     ]
    }
   ],
   "source": [
    "# Each object gets to control how it is turned into a string\n",
    "t = type(a)\n",
    "if t==int:\n",
    "    print(\"the print function automatically calls an object's  __str__() method, so all these are the same:\")\n",
    "    print(t)\n",
    "    x = str(t)    \n",
    "    print(x)\n",
    "    y = t.__str__(t)\n",
    "    print(y)"
   ]
  },
  {
   "cell_type": "code",
   "execution_count": null,
   "metadata": {},
   "outputs": [],
   "source": [
    "# lists have a __len__() method, used behind the scenes by the len built-in function:\n",
    "my_list = ['a', 'b', 'c']\n",
    "list_length = my_list.__len__()\n",
    "print('len(my_list) =', list_length)"
   ]
  },
  {
   "cell_type": "code",
   "execution_count": null,
   "metadata": {},
   "outputs": [],
   "source": [
    "a = 100\n",
    "\n",
    "# integers don't have a __len__() method, \n",
    "# so both these lines will create the same error: \n",
    "# a.__len__() # uncomment to see the error\n",
    "# len(a)      # uncomment to see the same error"
   ]
  },
  {
   "cell_type": "markdown",
   "metadata": {},
   "source": [
    "In the next section, we'll introduce boolean expressions and show how they use each object's `__bool__` magic method. "
   ]
  }
 ],
 "metadata": {
  "kernelspec": {
   "display_name": "Python 3 (ipykernel)",
   "language": "python",
   "name": "python3"
  },
  "language_info": {
   "codemirror_mode": {
    "name": "ipython",
    "version": 3
   },
   "file_extension": ".py",
   "mimetype": "text/x-python",
   "name": "python",
   "nbconvert_exporter": "python",
   "pygments_lexer": "ipython3",
   "version": "3.9.12"
  }
 },
 "nbformat": 4,
 "nbformat_minor": 2
}
