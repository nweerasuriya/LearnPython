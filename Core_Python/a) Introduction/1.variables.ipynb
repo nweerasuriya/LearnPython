{
 "cells": [
  {
   "cell_type": "markdown",
   "metadata": {},
   "source": [
    "---\n",
    "# 1. Variables, Expressions and `if` Statements\n",
    "---\n",
    "In Python, we store data in items called 'variables' – so called because the data values can 'vary' over  the lifetime of a program. \n",
    "\n",
    "So, for example, we can set `x = 10` on the first line of a cell, and then print it out on the second line of the cell.\n",
    "\n",
    "Click somewhere in the code cell below, and run it (e.g. by typing `CTRL+ENTER`). You should see the values `10` and `20` printed out directly below the source code. "
   ]
  },
  {
   "cell_type": "code",
   "execution_count": null,
   "metadata": {},
   "outputs": [],
   "source": [
    "# x is a variable\n",
    "\n",
    "x = 10 \n",
    "\n",
    "print(x)\n",
    "\n",
    "x = 20       # x 'becomes' 20\n",
    "\n",
    "print(x)\n",
    "\n",
    "# On each line, all text after a '#' is called a 'comment', ignored by Python "
   ]
  },
  {
   "cell_type": "markdown",
   "metadata": {},
   "source": [
    "Points to note from the above code:\n",
    "- Python stores data in variables. Here, there is one variable, named '`x`'\n",
    "- The lines of code are executed in sequence\n",
    "- The '=' sign is the assignment operator. We say \"`x` is assigned to the value 10\" or '`x` becomes 10'\n",
    "- Any text coming after the '#' character is ignored by Python: these text strings are called 'comments'  \n",
    "\n",
    "The variable `x` can also be assigned to other data, e.g. strings of characters, as shown in the following code cell:"
   ]
  },
  {
   "cell_type": "code",
   "execution_count": null,
   "metadata": {},
   "outputs": [],
   "source": [
    "x = 'hello world'\n",
    "print(x)"
   ]
  },
  {
   "cell_type": "markdown",
   "metadata": {},
   "source": [
    "## 1.1 Variable Names: Some Rules and Conventions:\n",
    "\n",
    "We've used '`x`' as the variable name, and we'll continue using short names. Choosing correct and appropriate variable names is important:\n",
    "- There's a few rules:\n",
    "    - They can only include letters, numbers and the '`_`' character. \n",
    "    - They can't start with a number \n",
    "    - They can't be Python keywords \n",
    "- There's also a few conventions:\n",
    "    - by convention, variable names use lower case rather than upper case characters\n",
    "    - by convention, the words in a name are separated by the '`_`' character.\n",
    "    - variables starting with a '`_`' have a special role in python, too -- but this is covered later. \n",
    "- They should be descriptive yet concise. This makes source code more understandable and 'easy on the eye'.\n",
    "\n"
   ]
  },
  {
   "cell_type": "markdown",
   "metadata": {},
   "source": [
    "### Concept Check: Variable Names\n",
    "\n",
    "Which of the following variable names are valid, and which of these follows the above conventions?"
   ]
  },
  {
   "cell_type": "code",
   "execution_count": null,
   "metadata": {},
   "outputs": [],
   "source": [
    "# eight_ball  = 8\n",
    "# 8_ball      = 8 \n",
    "# eight-ball  = 8\n",
    "# Eight_Ball  = 8\n",
    "# ball_8      = 8\n",
    "# Gin&Tonic   = 570\n",
    "\n",
    "# ManagingDirectorSalary = 100\n",
    "\n",
    "# category = 123\n",
    "# class    = 456 "
   ]
  },
  {
   "cell_type": "markdown",
   "metadata": {},
   "source": [
    "## 1.2 Expressions\n",
    "\n",
    "We can combine variables together in what Python calls expressions. For example:\n",
    "- `x+y` is an expression, \n",
    "- `x*y` means 'x multiplied by y', \n",
    "- and `x**3` means 'x to the power three', or 'x cubed'. "
   ]
  },
  {
   "cell_type": "code",
   "execution_count": null,
   "metadata": {},
   "outputs": [],
   "source": [
    "x = 10\n",
    "y = 20\n",
    "print(x+y)\n",
    "print(x*y)\n",
    "print(x**0.5)"
   ]
  },
  {
   "cell_type": "markdown",
   "metadata": {},
   "source": [
    "### Example: Calculating Volume \n",
    "\n",
    "Write a notebook cell to calculate and print the volume of a cuboid, given its width, height and depth, and print this out.\n"
   ]
  },
  {
   "cell_type": "code",
   "execution_count": null,
   "metadata": {},
   "outputs": [],
   "source": [
    "width  = 6\n",
    "height = 7\n",
    "depth  = 8\n",
    "volume = width*height*depth\n",
    "print('volume is', volume)"
   ]
  },
  {
   "cell_type": "markdown",
   "metadata": {},
   "source": [
    "## 1.3 Brackets and Operator Precedence \n",
    "\n",
    "- Expressions can be combined together using round brackets, just like in regular maths. Expressions within brackets are evaluated first, and then combined with elements outside the brackets.\n",
    "- Operators are applied in order of precedence. Aside from brackets, arithmetic operators are applied in the following priority:\n",
    "    - The power operator `**` is the highest priority\n",
    "    - Next is the 'unary' sign, e.g. `-x` reverses the sign of `x`  \n",
    "    - Then there are multiplication (`*`) and division (`/`). These have equal priority and are applied left-to-right, e.g. `6/3*4` is equal to `8.0`. \n",
    "    - Finally there are the addition `+` and subtraction `-` operators. These are the lowest priority. \n",
    "    \n",
    "There are also other types of operator in Python, which we cover later in the module.  \n",
    "    \n"
   ]
  },
  {
   "cell_type": "code",
   "execution_count": null,
   "metadata": {},
   "outputs": [],
   "source": [
    "x = 10\n",
    "y = 20\n",
    "z = (x+y)*2 # Adding together before multiplying by 2\n",
    "print(z)"
   ]
  },
  {
   "cell_type": "code",
   "execution_count": null,
   "metadata": {},
   "outputs": [],
   "source": [
    "# What operator is first applied, '+' or '*'?\n",
    "y = 6+6*2\n",
    "print(y)\n",
    "\n",
    "# What operator is first applied, '+' or '*'?\n",
    "x = 2*(5+5)\n",
    "print(x)"
   ]
  },
  {
   "cell_type": "markdown",
   "metadata": {},
   "source": [
    "### Concept Check: Calculating the Hypotenuse \n",
    "\n",
    "Write a notebook code cell, to calculate and print the length of a right angle’s hypotenuse, given the lengths of the adjacent and opposite sides. \n"
   ]
  },
  {
   "cell_type": "code",
   "execution_count": 5,
   "metadata": {},
   "outputs": [
    {
     "name": "stdout",
     "output_type": "stream",
     "text": [
      "6.4031242374328485\n"
     ]
    }
   ],
   "source": [
    "adjacent = 5\n",
    "opposite = 4\n",
    "\n",
    "# Write your code below\n",
    "hyp = (adjacent**2 + opposite**2)**(1/2)\n",
    "print(hyp)"
   ]
  },
  {
   "cell_type": "markdown",
   "metadata": {},
   "source": [
    "### Concept Check: Pythagorean Means *\n",
    "\n",
    "Write a notebook code cell, to calculate print the Pythagorean means of three numbers, a, b and c. \n"
   ]
  },
  {
   "cell_type": "code",
   "execution_count": 12,
   "metadata": {},
   "outputs": [
    {
     "name": "stdout",
     "output_type": "stream",
     "text": [
      "AM is 5.666666666666667\n",
      "GM is 4.641588833612778\n",
      "HM is 3.7500000000000004\n"
     ]
    }
   ],
   "source": [
    "# Write your code here\n",
    "a = 2\n",
    "b = 5\n",
    "c = 10\n",
    "\n",
    "AM = (a+b+c)/3\n",
    "GM = (a*b*c)**(1/3)\n",
    "HM = 3/((1/a)+(1/b)+(1/c))\n",
    "\n",
    "print(\"AM is\", AM)\n",
    "print(\"GM is\", GM)\n",
    "print(\"HM is\", HM)"
   ]
  },
  {
   "cell_type": "markdown",
   "metadata": {},
   "source": [
    "## 1.4 Conditional (`if`) Statements\n",
    "\n",
    "The `if` statement is used to compare expressions, and make our program act according to the result of that comparison. \n",
    "\n",
    "Let’s introduce an variable `estimated_volume` to the above 'Calculating Volume' example. If the estimate is bigger than the volume, we’ll print 'estimate too big'.\n",
    "\n",
    "Note carefully:\n",
    "- The `if` statement uses the '*greater than*' conditional operator, `>`, which evaluates to be either `True` or `False.\n",
    "- At the end of the line containing the `if` statement, there's a colon, showing the beginning of a new code block.\n",
    "- The new code block is defined by its increased *indent*, typically 4 spaces. This code block will only be run if the comparison is True.\n",
    "- The last line of code is outside this code block and is run whatever the result of the comparison. \n",
    "\n",
    "Try changing the value of `estimated_volume` to activate and deactivate the indented block of code."
   ]
  },
  {
   "cell_type": "code",
   "execution_count": null,
   "metadata": {},
   "outputs": [],
   "source": [
    "# Try changing this to 320:\n",
    "estimated_volume = 340\n",
    "\n",
    "width  = 6\n",
    "height = 7\n",
    "depth  = 8\n",
    "volume = width*height*depth\n",
    "\n",
    "print('estimated volume is', estimated_volume)\n",
    "if estimated_volume > volume:\n",
    "    print('estimate too big')\n",
    "    print('please try again.')\n",
    "\n",
    "print('volume is', volume)"
   ]
  },
  {
   "cell_type": "markdown",
   "metadata": {},
   "source": [
    "### Adding an `else` Statement\n",
    "\n",
    "Optionally,  an `else` statement can be included, to provide an alternative indented code block to run.\n",
    "\n",
    "If we have no code to include in this indented block, we can just write '`pass`' \n",
    "The statement `pass` is a placeholder that we can use when we need at least one line in an indented block.\n",
    "\n",
    " "
   ]
  },
  {
   "cell_type": "code",
   "execution_count": null,
   "metadata": {},
   "outputs": [],
   "source": [
    "estimated_volume = 336\n",
    "\n",
    "width  = 6\n",
    "height = 7\n",
    "depth  = 8\n",
    "volume = width*height*depth\n",
    "\n",
    "if estimated_volume > volume:\n",
    "    print('Estimate too big')\n",
    "    print('Please try again.')\n",
    "else:\n",
    "    pass\n",
    "\n",
    "print('Volume is', volume)"
   ]
  },
  {
   "cell_type": "markdown",
   "metadata": {},
   "source": [
    "Or, we may prefer to  replace '`pass`' with another print statement, like this:"
   ]
  },
  {
   "cell_type": "code",
   "execution_count": null,
   "metadata": {},
   "outputs": [],
   "source": [
    "\n",
    "estimated_volume = 336\n",
    "\n",
    "width  = 6\n",
    "height = 7\n",
    "depth  = 8\n",
    "volume = width*height*depth\n",
    "\n",
    "if estimated_volume>volume:\n",
    "    print('Estimate too big')\n",
    "    print('Please try again.')\n",
    "else:\n",
    "    print('Estimate is NOT too big')\n",
    "\n",
    "print('Volume is', volume)"
   ]
  },
  {
   "cell_type": "code",
   "execution_count": null,
   "metadata": {},
   "outputs": [],
   "source": []
  },
  {
   "cell_type": "markdown",
   "metadata": {},
   "source": [
    "### Adding `elif` Statements\n",
    "\n",
    "Furthermore, we can include additional comparisons (and code blocks) with the `elif` operator:"
   ]
  },
  {
   "cell_type": "code",
   "execution_count": null,
   "metadata": {},
   "outputs": [],
   "source": [
    "estimated_volume = 336\n",
    "\n",
    "width  = 6\n",
    "height = 7\n",
    "depth  = 8\n",
    "volume = width*height*depth\n",
    "\n",
    "if estimated_volume > volume:\n",
    "    print('Estimate too big')\n",
    "    print('Please try again.')\n",
    "elif estimated_volume == volume:\n",
    "    print('Correct!')\n",
    "else:\n",
    "    print('Estimate too small')\n",
    "\n",
    "print('Volume is', volume)"
   ]
  },
  {
   "cell_type": "markdown",
   "metadata": {},
   "source": [
    "Here, we use `==` ('the equality operator') to see if the two values are equal. \n",
    "- Note the important difference between `==` and `=` (the assignment operator)  \n",
    "- Other comparison operators include `<=` ('less than or equal') and `!=` ('not equal')\n",
    "   "
   ]
  },
  {
   "cell_type": "markdown",
   "metadata": {},
   "source": []
  },
  {
   "cell_type": "markdown",
   "metadata": {},
   "source": [
    "## Summary of Section 1\n",
    "\n",
    "Variables:\n",
    "- Data can stored in *variables* using a single equals sign '`=`'\n",
    "- Variables have *names*, for which there are rules and conventions\n",
    "Expressions:\n",
    "- We can combine together multiple variables and constant values using *expressions*\n",
    "- For the *arithmetic* operators, `*` is 'multiply' and `**` is 'to the power of'\n",
    "- More complex expressions use multiple operators, which are evaluated in order of precedence \n",
    "- We can also use brackets to force some parts of the expression to be evaluated before others\n",
    "\n",
    "Conditional statements:\n",
    "- We can compare expressions using the `if` statement\n",
    "- We can optionally include `else` and `elif` statements if needed\n",
    "- In each case, there is an indented code block which may be run, depending on the result of the comparison\n",
    "- To compare two expressions to see if they are equal, we use the double equals sign '`==`'\n",
    "- The complementary operator is 'not equal', written as `!=`, which will give a `True` result when the two expressions (on either side) are *not* equal to each other. \n"
   ]
  }
 ],
 "metadata": {
  "interpreter": {
   "hash": "cafeaa2399fa74e6dc79b3b726e7872fe86cf7945b44d42102441e40f1b90793"
  },
  "kernelspec": {
   "display_name": "Python 3 (ipykernel)",
   "language": "python",
   "name": "python3"
  },
  "language_info": {
   "codemirror_mode": {
    "name": "ipython",
    "version": 3
   },
   "file_extension": ".py",
   "mimetype": "text/x-python",
   "name": "python",
   "nbconvert_exporter": "python",
   "pygments_lexer": "ipython3",
   "version": "3.9.12"
  }
 },
 "nbformat": 4,
 "nbformat_minor": 4
}
