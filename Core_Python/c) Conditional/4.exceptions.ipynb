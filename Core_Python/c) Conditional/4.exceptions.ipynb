{
 "cells": [
  {
   "cell_type": "markdown",
   "metadata": {},
   "source": [
    "---\n",
    "# 4. Exceptions\n",
    "---\n",
    "\n",
    "When an error occurs during execution, an exception is raised. \n"
   ]
  },
  {
   "cell_type": "code",
   "execution_count": null,
   "metadata": {},
   "outputs": [],
   "source": [
    "# Example of an IndexError\n",
    "my_list = [1,2,3]\n",
    "my_list[3]"
   ]
  },
  {
   "cell_type": "code",
   "execution_count": null,
   "metadata": {},
   "outputs": [],
   "source": [
    "# Example of a ZeroDivisionError\n",
    "50 / 0\n"
   ]
  },
  {
   "cell_type": "markdown",
   "metadata": {},
   "source": [
    "## 4.1 Raising Exceptions\n",
    "\n",
    "Exceptions indicate errors and break out of the normal control flow of a program.\n",
    "Exceptions can be raised using the `raise` statement.\n",
    "\n"
   ]
  },
  {
   "cell_type": "code",
   "execution_count": null,
   "metadata": {},
   "outputs": [],
   "source": [
    "# Define a function to divide one number by another\n",
    "def my_divide(numerator, denominator):\n",
    "    if denominator == 0:\n",
    "        print('Denominator is 0. Cannot divide by zero.')\n",
    "        # raise ZeroDivisionError()\n",
    "        raise Exception()\n",
    "    else:\n",
    "        return numerator / denominator"
   ]
  },
  {
   "cell_type": "code",
   "execution_count": null,
   "metadata": {},
   "outputs": [],
   "source": [
    "my_divide(50,0)"
   ]
  },
  {
   "cell_type": "markdown",
   "metadata": {},
   "source": [
    "## 4.2  Handling Exceptions with a Single `except` block\n",
    "\n",
    "\n",
    "- Exceptions are 'caught' in the `try` block and then 'handled' in the `except` block.  \n",
    "- Excution stops in the `try` block as soon as the exception is encountered, and jumps straight to the `except` block.  \n"
   ]
  },
  {
   "cell_type": "code",
   "execution_count": null,
   "metadata": {},
   "outputs": [],
   "source": [
    "# Our function will raise an Exception...\n",
    "# Which print statements will be executed? \n",
    "try:\n",
    "    my_divide(50,0)\n",
    "    print('The next statement after calling my_divide')\n",
    "except: \n",
    "    print('Something went wrong...')\n",
    "print('Another statement after the try/except blocks')"
   ]
  },
  {
   "cell_type": "markdown",
   "metadata": {},
   "source": [
    "### Concept check: raising an Exception from within a function\n",
    "\n",
    "In an earlier unit (PY01.01.Intro.08.Functions), we wrote the function `get_age_from_string` that has a single argument `user_input`, and returns an integer if possible, or else `'not known'` if the `user_input` is invalid (for example, if the user enters letters rather than numbers, or a negative number.).\n",
    "\n",
    "That function has been copied into the `exceptions_exercises` module, and running `pytest` should show it passing one unit test. \n",
    "\n",
    "In this exercise, we'll add a slightly different function to that module, `get_age_from_string_v2`, that raises an `Exception` if the input is invalid. (Rather than return the string `'not known'`, as before). The `Exception` that we raise must include the word `'Invalid'` in its message (The unit test for this exercise searches for this).  \n",
    "\n",
    "Write code to call your function with some example names, either here in this notebook or else in the `__main__` block of the `exceptions_exercises` module.  Print out the input arguments and return values, to show that it is working.\n",
    "\n",
    "When it's ready to test, remove the first `@pytest.mark.skip line` from `test_for_exceptions.py` and rerun pytest. \n",
    "\n",
    "\n"
   ]
  },
  {
   "cell_type": "code",
   "execution_count": null,
   "metadata": {},
   "outputs": [],
   "source": [
    "\n",
    "def get_age_from_string_v2(user_input):\n",
    "    try:\n",
    "        age = int(user_input)\n",
    "        if age>=0:\n",
    "            return age\n",
    "        else:\n",
    "            raise Exception(\"invalid\")\n",
    "    except:\n",
    "        raise Exception(\"invalid\")"
   ]
  },
  {
   "cell_type": "code",
   "execution_count": null,
   "metadata": {},
   "outputs": [],
   "source": [
    "get_age_from_string_v2(input(\"Please enter\"))"
   ]
  },
  {
   "cell_type": "markdown",
   "metadata": {},
   "source": [
    "## 4.3 Multiple `except` Blocks\n",
    "\n",
    "- We can have multiple `except` blocks for different kinds of exceptions.\n",
    "- Each `except` block is considered in turn (starting with the first one). - If the type of the raised `Exception` matches the type in the `except` block, then this block is selected for execution (and no other `except` blocks will be executed). \n",
    "- The matching is performed using the hierachy of Python exception types. A list of the built-in exception types can be found [here](https://docs.python.org/3/library/exceptions.html?highlight=exception#Exception). "
   ]
  },
  {
   "cell_type": "code",
   "execution_count": null,
   "metadata": {},
   "outputs": [],
   "source": [
    "# Zero division error\n",
    "try:\n",
    "    y = 50 / 0\n",
    "except IndexError:\n",
    "    print('Index error!')\n",
    "except ZeroDivisionError:\n",
    "    print('Zero division error!')\n",
    "except: # Catch all\n",
    "    print('Something went wrong...')"
   ]
  },
  {
   "cell_type": "code",
   "execution_count": null,
   "metadata": {},
   "outputs": [],
   "source": [
    "# Index error\n",
    "try:\n",
    "    y = [1,2,3][10]\n",
    "except IndexError:\n",
    "    print('Index error!')\n",
    "except ZeroDivisionError:\n",
    "    print('Zero division error!')\n",
    "except: # Catch all\n",
    "    print('Something went wrong...')"
   ]
  },
  {
   "cell_type": "code",
   "execution_count": null,
   "metadata": {},
   "outputs": [],
   "source": [
    "# File file found error\n",
    "try:\n",
    "    f = open(r'D:/sdfhkdsfkshfsdfdsfds.txt', 'r')\n",
    "except IndexError:\n",
    "    print('Index error!')\n",
    "except ZeroDivisionError:\n",
    "    print('Zero division error!')\n",
    "except: # Catch all\n",
    "    print('Something went wrong...')"
   ]
  },
  {
   "cell_type": "code",
   "execution_count": null,
   "metadata": {},
   "outputs": [],
   "source": [
    "# Zero division error\n",
    "try:\n",
    "    y = 50 / 0\n",
    "except Exception:\n",
    "    print('Exception occurred.')\n",
    "except IndexError:\n",
    "    print('Index error!')\n",
    "except ZeroDivisionError:\n",
    "    print('Zero division error!')\n",
    "except: # Catch all\n",
    "    print('Something went wrong...')"
   ]
  },
  {
   "cell_type": "markdown",
   "metadata": {},
   "source": [
    "### Concept check: raising different types of Exceptions from within  a function\n",
    "\n",
    "\n",
    "In this exercise, we'll write a new function, `get_age_from_string_v3`, that raises an `TypeError` if the input cannot be converted into an integer, and a `ValueError` if the value is less than zero, or more than 150. \n",
    "\n",
    "Write code to call your function with some example inputs - you can test how it works by printing different messages for each of the two types of errors. (This code can go either here in this notebook, or else in the `__main__` block of the `exceptions_exercises` module.)\n",
    "\n",
    "When it's ready to test, remove the second `@pytest.mark.skip line` from `test_for_exceptions.py`, and rerun pytest. \n",
    "\n"
   ]
  },
  {
   "cell_type": "code",
   "execution_count": null,
   "metadata": {},
   "outputs": [],
   "source": [
    "def get_age_from_string_v3(user_input):\n",
    "    try:\n",
    "        age = int(user_input)\n",
    "    except:\n",
    "        raise TypeError\n",
    "    if 0<=age<=150:\n",
    "        return age\n",
    "    else:\n",
    "        raise ValueError(\"Please enter correct age\")\n",
    "    "
   ]
  },
  {
   "cell_type": "code",
   "execution_count": null,
   "metadata": {},
   "outputs": [],
   "source": [
    "get_age_from_string_v3(input(\"Please enter \"))"
   ]
  }
 ],
 "metadata": {
  "kernelspec": {
   "display_name": "Python 3 (ipykernel)",
   "language": "python",
   "name": "python3"
  },
  "language_info": {
   "codemirror_mode": {
    "name": "ipython",
    "version": 3
   },
   "file_extension": ".py",
   "mimetype": "text/x-python",
   "name": "python",
   "nbconvert_exporter": "python",
   "pygments_lexer": "ipython3",
   "version": "3.9.12"
  }
 },
 "nbformat": 4,
 "nbformat_minor": 2
}
