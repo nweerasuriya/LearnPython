{
 "cells": [
  {
   "cell_type": "markdown",
   "metadata": {},
   "source": [
    "---\n",
    "# 5. Exceptions\n",
    "---\n",
    "\n",
    "When an error occurs during execution, an exception is raised. \n"
   ]
  },
  {
   "cell_type": "code",
   "execution_count": null,
   "metadata": {},
   "outputs": [],
   "source": [
    "# Example of an IndexError\n",
    "my_list = [1,2,3]\n",
    "my_list[3]"
   ]
  },
  {
   "cell_type": "code",
   "execution_count": null,
   "metadata": {},
   "outputs": [],
   "source": [
    "# Example of a ZeroDivisionError\n",
    "50 / 0\n"
   ]
  },
  {
   "cell_type": "markdown",
   "metadata": {},
   "source": [
    "## 5.1 Raising Exceptions\n",
    "\n",
    "Exceptions indicate errors and break out of the normal control flow of a program.\n",
    "Exceptions can be raised using the `raise` statement.\n",
    "\n"
   ]
  },
  {
   "cell_type": "code",
   "execution_count": 1,
   "metadata": {},
   "outputs": [],
   "source": [
    "# Define a function to divide one number by another\n",
    "def my_divide(numerator, denominator):\n",
    "    if denominator == 0:\n",
    "        print('Denominator is 0. Cannot divide by zero.')\n",
    "        # raise ZeroDivisionError()\n",
    "        raise Exception()\n",
    "    else:\n",
    "        return numerator / denominator"
   ]
  },
  {
   "cell_type": "code",
   "execution_count": 2,
   "metadata": {},
   "outputs": [
    {
     "name": "stdout",
     "output_type": "stream",
     "text": [
      "Denominator is 0. Cannot divide by zero.\n"
     ]
    },
    {
     "ename": "Exception",
     "evalue": "",
     "output_type": "error",
     "traceback": [
      "\u001b[1;31m---------------------------------------------------------------------------\u001b[0m",
      "\u001b[1;31mException\u001b[0m                                 Traceback (most recent call last)",
      "Input \u001b[1;32mIn [2]\u001b[0m, in \u001b[0;36m<cell line: 1>\u001b[1;34m()\u001b[0m\n\u001b[1;32m----> 1\u001b[0m \u001b[43mmy_divide\u001b[49m\u001b[43m(\u001b[49m\u001b[38;5;241;43m50\u001b[39;49m\u001b[43m,\u001b[49m\u001b[38;5;241;43m0\u001b[39;49m\u001b[43m)\u001b[49m\n",
      "Input \u001b[1;32mIn [1]\u001b[0m, in \u001b[0;36mmy_divide\u001b[1;34m(numerator, denominator)\u001b[0m\n\u001b[0;32m      4\u001b[0m     \u001b[38;5;28mprint\u001b[39m(\u001b[38;5;124m'\u001b[39m\u001b[38;5;124mDenominator is 0. Cannot divide by zero.\u001b[39m\u001b[38;5;124m'\u001b[39m)\n\u001b[0;32m      5\u001b[0m     \u001b[38;5;66;03m# raise ZeroDivisionError()\u001b[39;00m\n\u001b[1;32m----> 6\u001b[0m     \u001b[38;5;28;01mraise\u001b[39;00m \u001b[38;5;167;01mException\u001b[39;00m()\n\u001b[0;32m      7\u001b[0m \u001b[38;5;28;01melse\u001b[39;00m:\n\u001b[0;32m      8\u001b[0m     \u001b[38;5;28;01mreturn\u001b[39;00m numerator \u001b[38;5;241m/\u001b[39m denominator\n",
      "\u001b[1;31mException\u001b[0m: "
     ]
    }
   ],
   "source": [
    "my_divide(50,0)"
   ]
  },
  {
   "cell_type": "markdown",
   "metadata": {},
   "source": [
    "## 5.2  Handling Exceptions with a Single `except` block\n",
    "\n",
    "\n",
    "- Exceptions are 'caught' in the `try` block and then 'handled' in the `except` block.  \n",
    "- Excution stops in the `try` block as soon as the exception is encountered, and jumps straight to the `except` block.  \n"
   ]
  },
  {
   "cell_type": "code",
   "execution_count": 3,
   "metadata": {},
   "outputs": [
    {
     "name": "stdout",
     "output_type": "stream",
     "text": [
      "Denominator is 0. Cannot divide by zero.\n",
      "Something went wrong...\n",
      "Another statement after the try/except blocks\n"
     ]
    }
   ],
   "source": [
    "# Our function will raise an Exception...\n",
    "# Which print statements will be executed? \n",
    "try:\n",
    "    my_divide(50,0)\n",
    "    print('The next statement after calling my_divide')\n",
    "except: \n",
    "    print('Something went wrong...')\n",
    "print('Another statement after the try/except blocks')"
   ]
  },
  {
   "cell_type": "markdown",
   "metadata": {},
   "source": [
    "### Concept check: raising an Exception from within a function\n",
    "\n",
    "In an earlier unit (PY01.01.Intro.08.Functions), we wrote the function `get_age_from_string` that has a single argument `user_input`, and returns an integer if possible, or else `'not known'` if the `user_input` is invalid (for example, if the user enters letters rather than numbers, or a negative number.).\n",
    "\n",
    "That function has been copied into the `exceptions_exercises` module, and running `pytest` should show it passing one unit test. \n",
    "\n",
    "In this exercise, we'll add a slightly different function to that module, `get_age_from_string_v2`, that raises an `Exception` if the input is invalid. (Rather than return the string `'not known'`, as before). The `Exception` that we raise must include the word `'Invalid'` in its message (The unit test for this exercise searches for this).  \n",
    "\n",
    "Write code to call your function with some example names, either here in this notebook or else in the `__main__` block of the `exceptions_exercises` module.  Print out the input arguments and return values, to show that it is working.\n",
    "\n",
    "When it's ready to test, remove the first `@pytest.mark.skip line` from `test_for_exceptions.py` and rerun pytest. \n",
    "\n",
    "\n"
   ]
  },
  {
   "cell_type": "code",
   "execution_count": 22,
   "metadata": {},
   "outputs": [],
   "source": [
    "\n",
    "def get_age_from_string_v2(user_input):\n",
    "    try:\n",
    "        age = int(user_input)\n",
    "        if age>=0:\n",
    "            return age\n",
    "        else:\n",
    "            raise Exception(\"invalid\")\n",
    "    except:\n",
    "        raise Exception(\"invalid\")"
   ]
  },
  {
   "cell_type": "code",
   "execution_count": 23,
   "metadata": {},
   "outputs": [
    {
     "name": "stdout",
     "output_type": "stream",
     "text": [
      "Please enters\n"
     ]
    },
    {
     "ename": "Exception",
     "evalue": "invalid",
     "output_type": "error",
     "traceback": [
      "\u001b[1;31m---------------------------------------------------------------------------\u001b[0m",
      "\u001b[1;31mValueError\u001b[0m                                Traceback (most recent call last)",
      "Input \u001b[1;32mIn [22]\u001b[0m, in \u001b[0;36mget_age_from_string_v2\u001b[1;34m(user_input)\u001b[0m\n\u001b[0;32m      2\u001b[0m \u001b[38;5;28;01mtry\u001b[39;00m:\n\u001b[1;32m----> 3\u001b[0m     age \u001b[38;5;241m=\u001b[39m \u001b[38;5;28;43mint\u001b[39;49m\u001b[43m(\u001b[49m\u001b[43muser_input\u001b[49m\u001b[43m)\u001b[49m\n\u001b[0;32m      4\u001b[0m     \u001b[38;5;28;01mif\u001b[39;00m age\u001b[38;5;241m>\u001b[39m\u001b[38;5;241m=\u001b[39m\u001b[38;5;241m0\u001b[39m:\n",
      "\u001b[1;31mValueError\u001b[0m: invalid literal for int() with base 10: 's'",
      "\nDuring handling of the above exception, another exception occurred:\n",
      "\u001b[1;31mException\u001b[0m                                 Traceback (most recent call last)",
      "Input \u001b[1;32mIn [23]\u001b[0m, in \u001b[0;36m<cell line: 1>\u001b[1;34m()\u001b[0m\n\u001b[1;32m----> 1\u001b[0m \u001b[43mget_age_from_string_v2\u001b[49m\u001b[43m(\u001b[49m\u001b[38;5;28;43minput\u001b[39;49m\u001b[43m(\u001b[49m\u001b[38;5;124;43m\"\u001b[39;49m\u001b[38;5;124;43mPlease enter\u001b[39;49m\u001b[38;5;124;43m\"\u001b[39;49m\u001b[43m)\u001b[49m\u001b[43m)\u001b[49m\n",
      "Input \u001b[1;32mIn [22]\u001b[0m, in \u001b[0;36mget_age_from_string_v2\u001b[1;34m(user_input)\u001b[0m\n\u001b[0;32m      7\u001b[0m         \u001b[38;5;28;01mraise\u001b[39;00m \u001b[38;5;167;01mException\u001b[39;00m(\u001b[38;5;124m\"\u001b[39m\u001b[38;5;124minvalid\u001b[39m\u001b[38;5;124m\"\u001b[39m)\n\u001b[0;32m      8\u001b[0m \u001b[38;5;28;01mexcept\u001b[39;00m:\n\u001b[1;32m----> 9\u001b[0m     \u001b[38;5;28;01mraise\u001b[39;00m \u001b[38;5;167;01mException\u001b[39;00m(\u001b[38;5;124m\"\u001b[39m\u001b[38;5;124minvalid\u001b[39m\u001b[38;5;124m\"\u001b[39m)\n",
      "\u001b[1;31mException\u001b[0m: invalid"
     ]
    }
   ],
   "source": [
    "get_age_from_string_v2(input(\"Please enter\"))"
   ]
  },
  {
   "cell_type": "markdown",
   "metadata": {},
   "source": [
    "## 5.3 Multiple `except` Blocks\n",
    "\n",
    "- We can have multiple `except` blocks for different kinds of exceptions.\n",
    "- Each `except` block is considered in turn (starting with the first one). - If the type of the raised `Exception` matches the type in the `except` block, then this block is selected for execution (and no other `except` blocks will be executed). \n",
    "- The matching is performed using the hierachy of Python exception types. A list of the built-in exception types can be found [here](https://docs.python.org/3/library/exceptions.html?highlight=exception#Exception). "
   ]
  },
  {
   "cell_type": "code",
   "execution_count": 46,
   "metadata": {},
   "outputs": [
    {
     "name": "stdout",
     "output_type": "stream",
     "text": [
      "Zero division error!\n"
     ]
    }
   ],
   "source": [
    "# Zero division error\n",
    "try:\n",
    "    y = 50 / 0\n",
    "except IndexError:\n",
    "    print('Index error!')\n",
    "except ZeroDivisionError:\n",
    "    print('Zero division error!')\n",
    "except: # Catch all\n",
    "    print('Something went wrong...')"
   ]
  },
  {
   "cell_type": "code",
   "execution_count": 5,
   "metadata": {},
   "outputs": [
    {
     "name": "stdout",
     "output_type": "stream",
     "text": [
      "Index error!\n"
     ]
    }
   ],
   "source": [
    "# Index error\n",
    "try:\n",
    "    y = [1,2,3][10]\n",
    "except IndexError:\n",
    "    print('Index error!')\n",
    "except ZeroDivisionError:\n",
    "    print('Zero division error!')\n",
    "except: # Catch all\n",
    "    print('Something went wrong...')"
   ]
  },
  {
   "cell_type": "code",
   "execution_count": 6,
   "metadata": {},
   "outputs": [
    {
     "name": "stdout",
     "output_type": "stream",
     "text": [
      "Something went wrong...\n"
     ]
    }
   ],
   "source": [
    "# File file found error\n",
    "try:\n",
    "    f = open(r'D:/sdfhkdsfkshfsdfdsfds.txt', 'r')\n",
    "except IndexError:\n",
    "    print('Index error!')\n",
    "except ZeroDivisionError:\n",
    "    print('Zero division error!')\n",
    "except: # Catch all\n",
    "    print('Something went wrong...')"
   ]
  },
  {
   "cell_type": "code",
   "execution_count": 41,
   "metadata": {},
   "outputs": [
    {
     "name": "stdout",
     "output_type": "stream",
     "text": [
      "Exception occurred.\n"
     ]
    }
   ],
   "source": [
    "# Zero division error\n",
    "try:\n",
    "    y = 50 / 0\n",
    "except Exception:\n",
    "    print('Exception occurred.')\n",
    "except IndexError:\n",
    "    print('Index error!')\n",
    "except ZeroDivisionError:\n",
    "    print('Zero division error!')\n",
    "except: # Catch all\n",
    "    print('Something went wrong...')"
   ]
  },
  {
   "cell_type": "markdown",
   "metadata": {},
   "source": [
    "### Concept check: raising different types of Exceptions from within  a function\n",
    "\n",
    "\n",
    "In this exercise, we'll write a new function, `get_age_from_string_v3`, that raises an `TypeError` if the input cannot be converted into an integer, and a `ValueError` if the value is less than zero, or more than 150. \n",
    "\n",
    "Write code to call your function with some example inputs - you can test how it works by printing different messages for each of the two types of errors. (This code can go either here in this notebook, or else in the `__main__` block of the `exceptions_exercises` module.)\n",
    "\n",
    "When it's ready to test, remove the second `@pytest.mark.skip line` from `test_for_exceptions.py`, and rerun pytest. \n",
    "\n"
   ]
  },
  {
   "cell_type": "code",
   "execution_count": 47,
   "metadata": {},
   "outputs": [],
   "source": [
    "def get_age_from_string_v3(user_input):\n",
    "    try:\n",
    "        age = int(user_input)\n",
    "    except:\n",
    "        raise TypeError\n",
    "    if 0<=age<=150:\n",
    "        return age\n",
    "    else:\n",
    "        raise ValueError(\"Please enter correct age\")\n",
    "    "
   ]
  },
  {
   "cell_type": "code",
   "execution_count": 48,
   "metadata": {},
   "outputs": [
    {
     "name": "stdout",
     "output_type": "stream",
     "text": [
      "Please enter k\n"
     ]
    },
    {
     "ename": "TypeError",
     "evalue": "",
     "output_type": "error",
     "traceback": [
      "\u001b[1;31m---------------------------------------------------------------------------\u001b[0m",
      "\u001b[1;31mValueError\u001b[0m                                Traceback (most recent call last)",
      "Input \u001b[1;32mIn [47]\u001b[0m, in \u001b[0;36mget_age_from_string_v3\u001b[1;34m(user_input)\u001b[0m\n\u001b[0;32m      2\u001b[0m \u001b[38;5;28;01mtry\u001b[39;00m:\n\u001b[1;32m----> 3\u001b[0m     age \u001b[38;5;241m=\u001b[39m \u001b[38;5;28;43mint\u001b[39;49m\u001b[43m(\u001b[49m\u001b[43muser_input\u001b[49m\u001b[43m)\u001b[49m\n\u001b[0;32m      4\u001b[0m \u001b[38;5;28;01mexcept\u001b[39;00m:\n",
      "\u001b[1;31mValueError\u001b[0m: invalid literal for int() with base 10: 'k'",
      "\nDuring handling of the above exception, another exception occurred:\n",
      "\u001b[1;31mTypeError\u001b[0m                                 Traceback (most recent call last)",
      "Input \u001b[1;32mIn [48]\u001b[0m, in \u001b[0;36m<cell line: 1>\u001b[1;34m()\u001b[0m\n\u001b[1;32m----> 1\u001b[0m \u001b[43mget_age_from_string_v3\u001b[49m\u001b[43m(\u001b[49m\u001b[38;5;28;43minput\u001b[39;49m\u001b[43m(\u001b[49m\u001b[38;5;124;43m\"\u001b[39;49m\u001b[38;5;124;43mPlease enter \u001b[39;49m\u001b[38;5;124;43m\"\u001b[39;49m\u001b[43m)\u001b[49m\u001b[43m)\u001b[49m\n",
      "Input \u001b[1;32mIn [47]\u001b[0m, in \u001b[0;36mget_age_from_string_v3\u001b[1;34m(user_input)\u001b[0m\n\u001b[0;32m      3\u001b[0m     age \u001b[38;5;241m=\u001b[39m \u001b[38;5;28mint\u001b[39m(user_input)\n\u001b[0;32m      4\u001b[0m \u001b[38;5;28;01mexcept\u001b[39;00m:\n\u001b[1;32m----> 5\u001b[0m     \u001b[38;5;28;01mraise\u001b[39;00m \u001b[38;5;167;01mTypeError\u001b[39;00m\n\u001b[0;32m      6\u001b[0m \u001b[38;5;28;01mif\u001b[39;00m \u001b[38;5;241m0\u001b[39m\u001b[38;5;241m<\u001b[39m\u001b[38;5;241m=\u001b[39mage\u001b[38;5;241m<\u001b[39m\u001b[38;5;241m=\u001b[39m\u001b[38;5;241m150\u001b[39m:\n\u001b[0;32m      7\u001b[0m     \u001b[38;5;28;01mreturn\u001b[39;00m age\n",
      "\u001b[1;31mTypeError\u001b[0m: "
     ]
    }
   ],
   "source": [
    "get_age_from_string_v3(input(\"Please enter \"))"
   ]
  }
 ],
 "metadata": {
  "kernelspec": {
   "display_name": "Python 3 (ipykernel)",
   "language": "python",
   "name": "python3"
  },
  "language_info": {
   "codemirror_mode": {
    "name": "ipython",
    "version": 3
   },
   "file_extension": ".py",
   "mimetype": "text/x-python",
   "name": "python",
   "nbconvert_exporter": "python",
   "pygments_lexer": "ipython3",
   "version": "3.9.12"
  }
 },
 "nbformat": 4,
 "nbformat_minor": 2
}
