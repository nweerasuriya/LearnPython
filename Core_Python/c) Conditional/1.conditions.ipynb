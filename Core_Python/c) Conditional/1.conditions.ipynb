{
 "cells": [
  {
   "cell_type": "markdown",
   "metadata": {},
   "source": [
    "# 1. Conditional execution: `if`  and `while` statements\n",
    "\n"
   ]
  },
  {
   "cell_type": "markdown",
   "metadata": {},
   "source": [
    "## 1.1 The `if` statement\n",
    "\n",
    "```\n",
    "if <expression>:\n",
    "    # indented code block\n",
    "    print('run these statements once')\n",
    "```    \n",
    "\n",
    "The `if` statement executes its indented code block once, if the `expression` is true.\n",
    "- Optional `else` and `elif` statements, each with their own code blocks.\n",
    "- There's a short form of the `if` statement that can make code more readable.\n",
    "- We can nest `if` statements, one inside the other, if required.  \n",
    "\n",
    "\n",
    "\n",
    "### Example: \n",
    "\n",
    "Write a notebook cell that asks the user to estimate the volume of a cuboid and prints out 'too large', 'too small' or 'spot on', as appropriate."
   ]
  },
  {
   "cell_type": "code",
   "execution_count": null,
   "metadata": {},
   "outputs": [],
   "source": [
    "width = 6\n",
    "height = 7\n",
    "depth = 8\n",
    "\n",
    "user_message = 'what is the volume of a {}x{}x{} cuboid?'.format(width, height, depth)\n",
    "\n",
    "user_input = input(user_message)\n",
    "estimated_volume = int(user_input)\n",
    "\n",
    "actual_volume = width*height*depth\n",
    "\n",
    "if estimated_volume > actual_volume:  \n",
    "    print('too large')\n",
    "\n",
    "elif estimated_volume == actual_volume:\n",
    "    print('spot on!')\n",
    "    \n",
    "else:\n",
    "    print('too small')"
   ]
  },
  {
   "cell_type": "markdown",
   "metadata": {},
   "source": [
    "### Concept Check: If Statements\n",
    "\n",
    "Ask the user to enter a number and then print this number out, unless...:\n",
    "- if it is divisible by two, print `fizz`\n",
    "- if it is divisible by three, print `buzz`\n",
    "- if it is divisible by both two and three, print `fizz-buzz`"
   ]
  },
  {
   "cell_type": "code",
   "execution_count": null,
   "metadata": {},
   "outputs": [],
   "source": [
    "# write your code here"
   ]
  },
  {
   "cell_type": "markdown",
   "metadata": {},
   "source": [
    "### 1.1.1 Nested `if` statements\n",
    "\n",
    "'Nesting' means putting one inside the other. We can nest `if` statements using an additional level of indentation for the inner statement.\n",
    "\n",
    "\n",
    "### Example: Nested if statements\n",
    "\n",
    "Write a code cell that asks a user for their estimate of volume and then prints out whether this is too low, too high or spot-on. \n",
    "\n",
    "In addition, if the user is more than 20% inaccurate, it should print 'WAY too low (or high)', as appropriate.\n"
   ]
  },
  {
   "cell_type": "code",
   "execution_count": null,
   "metadata": {},
   "outputs": [],
   "source": [
    "width         = 6\n",
    "height        = 7\n",
    "depth         = 8\n",
    "actual_volume = width*height*depth\n",
    "\n",
    "user_message     = 'what is the volume of a {}x{}x{} cuboid?'.format(width, height, depth)\n",
    "user_input       = input(user_message)\n",
    "estimated_volume = int(user_input)\n",
    "\n",
    "\n",
    "if estimated_volume > actual_volume:  \n",
    "    if estimated_volume / actual_volume >= 1.2:\n",
    "        print('WAY too large')\n",
    "    else:\n",
    "        print('too large')\n",
    "        \n",
    "elif estimated_volume == actual_volume:\n",
    "    print('spot on!')\n",
    "    \n",
    "else:\n",
    "    if estimated_volume / actual_volume <= 0.8:\n",
    "        print('WAY too small')\n",
    "    else:\n",
    "        print('too small')"
   ]
  },
  {
   "cell_type": "markdown",
   "metadata": {},
   "source": [
    "### Concept Check: If Statements\n",
    "\n",
    "Write a notebook code cell that prints out the effective marginal tax rate for a UK tax payer. If they earn less than £12.5k (the personal allowance), then the tax is 0%. The standard rate of 20% percent applies between £12.5k and £50k, and above that a higher rate of 40% applies. \n"
   ]
  },
  {
   "cell_type": "code",
   "execution_count": null,
   "metadata": {},
   "outputs": [],
   "source": [
    "# Write your solution to the concept check here\n"
   ]
  },
  {
   "cell_type": "code",
   "execution_count": null,
   "metadata": {},
   "outputs": [],
   "source": [
    "def get_tax_rate(income):\n",
    "    if income > 50000:\n",
    "        tax_rate = 40\n",
    "    elif income > 12500:\n",
    "        tax_rate = 20\n",
    "    else:\n",
    "        tax_rate = 0\n",
    "    return tax_rate"
   ]
  },
  {
   "cell_type": "markdown",
   "metadata": {},
   "source": [
    "### 1.1.2 Short Form of the `if` Statement\n",
    "\n",
    "The standard form of `if` statement is as follows:\n",
    "```\n",
    "if <condition>:\n",
    "     <statements 1>\n",
    "else: \n",
    "     <statements 2>\n",
    "```\n",
    "\n",
    "If both `<statements 1>` and `<statements 2>`  consist of one expression each, then we can write this using the short form, on a single line\n",
    "\n",
    "```\n",
    "<statement 1> if <condition> else <statement 2> \n",
    "```\n",
    "\n",
    "This short form of the `if` statement is sometimes called a *ternary operator*.\n",
    "\n",
    "### Example: Short Form of the `if` Statement"
   ]
  },
  {
   "cell_type": "code",
   "execution_count": null,
   "metadata": {},
   "outputs": [],
   "source": [
    "is_raining         = False\n",
    "lunchtime_meeting  = False\n",
    "\n",
    "x = 'go for walk' if not is_raining and not lunchtime_meeting else 'stay at computer' \n",
    "x"
   ]
  },
  {
   "cell_type": "markdown",
   "metadata": {},
   "source": [
    "### Concept Check: Short Form of the `if` Statement\n",
    "\n",
    "Re-write the code cell below, using the short form of the `if` statement.\n",
    "\n",
    "You can assume that `reserve_list` will never be empty.\n",
    "\n",
    "(Advanced further question: modify the logic so that `next_guest=None` if both lists are empty. You'll find it's more difficult to put this extended logic into the short form of the `if` statement!)"
   ]
  },
  {
   "cell_type": "code",
   "execution_count": null,
   "metadata": {},
   "outputs": [],
   "source": [
    "vip_list     = ['Alice']\n",
    "reserve_list = ['Bob', 'Charlie']\n",
    "\n",
    "if len(vip_list):\n",
    "    next_guest = vip_list[0]\n",
    "else:\n",
    "    next_guest = reserve_list[0]\n",
    "    \n",
    "next_guest"
   ]
  },
  {
   "cell_type": "code",
   "execution_count": null,
   "metadata": {},
   "outputs": [],
   "source": [
    "# Re-write the above code, using the short form of the 'if' statement"
   ]
  },
  {
   "cell_type": "markdown",
   "metadata": {},
   "source": [
    "## 1.2  Indefinite Iteration: the `while` Statement\n",
    "\n",
    "\n",
    "```\n",
    "while <expression>:\n",
    "    # indented code block\n",
    "    print('repeatedly run these statements')\n",
    "```    \n",
    "\n",
    "The `while` statement repeatedly executes the code block, while the expression is true\n",
    "- The `break` statement exits the code block and carries on below.\n",
    "- The `continue` statement exits this iteration of the code block and starts the next iteration (at the `while` statement).\n",
    "- Nesting `while` statements is possible, but makes code hard to follow.\n",
    "\n"
   ]
  },
  {
   "cell_type": "code",
   "execution_count": null,
   "metadata": {},
   "outputs": [],
   "source": [
    "game_has_ended = False\n",
    "\n",
    "while not game_has_ended:\n",
    "    print('playing game')\n",
    "    user_input = input('finish?')\n",
    "    if user_input=='y':\n",
    "        game_has_ended = True\n",
    "        \n",
    "print('game over')"
   ]
  },
  {
   "cell_type": "markdown",
   "metadata": {},
   "source": [
    "### 1.2.1 The `break` Keyword"
   ]
  },
  {
   "cell_type": "code",
   "execution_count": null,
   "metadata": {},
   "outputs": [],
   "source": [
    "# we can use a 'break' statement to terminate the loop\n",
    "# this is exactly the same as above block (logically)\n",
    "while True:\n",
    "    print('playing game')\n",
    "    user_input = input('finish?')\n",
    "    if user_input=='y':\n",
    "        break\n",
    "        \n",
    "print('game over')"
   ]
  },
  {
   "cell_type": "markdown",
   "metadata": {},
   "source": [
    "### 1.2.2 The `continue` Keyword"
   ]
  },
  {
   "cell_type": "code",
   "execution_count": null,
   "metadata": {},
   "outputs": [],
   "source": [
    "# continue will continue execution at the beginning of the NEXT iteration, \n",
    "# skipping any lines remaining in this iteration\n",
    "\n",
    "while True:\n",
    "    user_input = input('finish (f) or pause (p)?')\n",
    "    if user_input=='p':\n",
    "        continue\n",
    "    elif user_input == 'f':\n",
    "        break\n",
    "        \n",
    "    print('playing game')\n",
    "print('finished')"
   ]
  },
  {
   "cell_type": "markdown",
   "metadata": {},
   "source": [
    "### Concept Check: While loops\n",
    "Write a python program that asks the user for a name, and prints out the their phone number, until the user enters an empty string, whereupon the program will terminate"
   ]
  },
  {
   "cell_type": "code",
   "execution_count": null,
   "metadata": {},
   "outputs": [],
   "source": [
    "# Write your solution to the concept check here\n",
    "    "
   ]
  },
  {
   "cell_type": "markdown",
   "metadata": {},
   "source": [
    "###  Concept Check: Nested If Statements *\n",
    "\n",
    "In Exercise 4, we wrote a function to calculate the effective marginal tax rate for a UK tax payer, using the income as an argument. If they earn less than £12.5k (the 'personal allowance'), then the tax is 0%. The standard rate of 20% percent applies between £12.5k and £50k, and above that a higher rate of 40% applies. \n",
    "\n",
    "In addition, we now require three extra details to their marginal tax rate calculation:\n",
    "- Above £145k, the income tax rate rises from 40% to 45%.\n",
    "- If the tax-payer has one child, then they have to pay back £1200 child benefit between £50k and £60k of income. This means that if they earn £50k then they pay back £0 child benefit, if they earn £55k they pay back £600, and if they earn £60k then they have to pay back all £1200. For two children, the £1200 raises to £1700. This 'claw-back' should be included in their marginal tax. \n",
    "- Their personal allowance shrinks from £12.5k to £0 as their income rises from £100k to £120k. So, if they earn £110k, then their personal allowance is only £6k.\n",
    "\n",
    "Include these additional considerations when calculating the marginal tax rate. Include an additional argument, for the number of children.\n",
    "\n",
    "* This is a more complicated puzzle -- treat it as optional, for now. Don't fret if your solution doesn't pass all the tests! It takes some practice.\n",
    "\n"
   ]
  },
  {
   "cell_type": "code",
   "execution_count": null,
   "metadata": {},
   "outputs": [],
   "source": [
    "# write your code here"
   ]
  }
 ],
 "metadata": {
  "kernelspec": {
   "display_name": "Python 3 (ipykernel)",
   "language": "python",
   "name": "python3"
  },
  "language_info": {
   "codemirror_mode": {
    "name": "ipython",
    "version": 3
   },
   "file_extension": ".py",
   "mimetype": "text/x-python",
   "name": "python",
   "nbconvert_exporter": "python",
   "pygments_lexer": "ipython3",
   "version": "3.9.12"
  }
 },
 "nbformat": 4,
 "nbformat_minor": 2
}
