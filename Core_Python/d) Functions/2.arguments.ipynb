{
 "cells": [
  {
   "cell_type": "markdown",
   "metadata": {},
   "source": [
    "---\n",
    "# 2. Function Arguments\n",
    "---\n",
    "\n",
    "\n",
    "## 2.1 Default Arguments\n",
    "\n",
    "The above function `get_kinetic_energy` takes one argument, `input_tuple`. This is expected to contain two numbers, representing the mass and velocity of the particle. \n",
    "\n",
    "Another way to specify the arguments is to use a separate argument for each variable.\n",
    "\n",
    "For example, the following function for potential energy has three separate argument, mass, height and g (the gravitational field strength).\n",
    "\n"
   ]
  },
  {
   "cell_type": "code",
   "execution_count": 1,
   "metadata": {},
   "outputs": [
    {
     "name": "stdout",
     "output_type": "stream",
     "text": [
      "Potential Energy of an apple in a tree: about 2 Joules.\n",
      "Potential Energy of a raindrop in a cloud: about 20 Joules.\n"
     ]
    }
   ],
   "source": [
    "def get_potential_energy(mass, height, g):\n",
    "    # g is the gravitational field strength\n",
    "    potential_energy = mass * height * g\n",
    "    return potential_energy\n",
    "\n",
    "apple_pe    = get_potential_energy(0.1,   2,    9.81)\n",
    "raindrop_pe = get_potential_energy(0.001, 2000, 9.81)\n",
    "\n",
    "print(f'Potential Energy of an apple in a tree: about {apple_pe:.0f} Joules.')\n",
    "print(f'Potential Energy of a raindrop in a cloud: about {raindrop_pe:.0f} Joules.')"
   ]
  },
  {
   "cell_type": "markdown",
   "metadata": {},
   "source": [
    "Note that each time we called the function, we had to specify the value of the gravitational field strength, 'g'.\n",
    "\n",
    "On the surface of the earth, this is always about 9.81, so it would be useful to make this the default value for the function, and only change it if we are somewhere else (like the moon).\n",
    "\n",
    "In Python, we can set the default value for an argument, by using the `=` assignment operator inside the argument list definition.\n",
    "- When we call the function *without* including that argument, then the default value is used. \n",
    "- When we call the function and we do specify a value for that argument, then this specified value is used instead.\n",
    "\n",
    "Below, the function is re-written using a default value for the last argument, `g`:  "
   ]
  },
  {
   "cell_type": "code",
   "execution_count": 2,
   "metadata": {},
   "outputs": [
    {
     "name": "stdout",
     "output_type": "stream",
     "text": [
      "Potential Energy of an apple in a tree: about 2 Joules.\n",
      "Potential Energy of a raindrop in a cloud: about 20 Joules.\n",
      "P.E. of an apple in a tree (on the moon!): about 0.3 Joules.\n"
     ]
    }
   ],
   "source": [
    "def get_potential_energy(mass, height, g = 9.81):\n",
    "    # g is the gravitational field strength\n",
    "    potential_energy = mass * height * g\n",
    "    return potential_energy\n",
    "\n",
    "apple_pe    = get_potential_energy(0.1,   2)\n",
    "raindrop_pe = get_potential_energy(0.001, 2000)\n",
    "moon_apple  = get_potential_energy(0.1, 2, 1.6)\n",
    "\n",
    "\n",
    "print(f'Potential Energy of an apple in a tree: about {apple_pe:.0f} Joules.')\n",
    "print(f'Potential Energy of a raindrop in a cloud: about {raindrop_pe:.0f} Joules.')\n",
    "\n",
    "print(f'P.E. of an apple in a tree (on the moon!): about {moon_apple:.1f} Joules.')\n"
   ]
  },
  {
   "cell_type": "markdown",
   "metadata": {},
   "source": [
    "### 2.1.1 Order of Arguments with Default Values\n",
    "\n",
    "We can specify default values for as many of the arguments as we need. \n",
    "\n",
    "We can even specify default values for all of the arguments.\n",
    "\n",
    "However, all non-default arguments must occur before the default arguments: \n",
    "the default arguments must be positioned after the non-default arguments.\n",
    "\n",
    "```\n",
    "def my_function(a=1, b=2, c=3):  # ok\n",
    "    pass\n",
    "    \n",
    "def my_function(a, b=2, c=3):    # ok\n",
    "    pass \n",
    "    \n",
    "def my_function(a=1, b, c=3):    # NOT ok\n",
    "    pass \n",
    "```\n"
   ]
  },
  {
   "cell_type": "markdown",
   "metadata": {},
   "source": [
    "### Concept Check: Default Arguments\n",
    "\n",
    "Write two functions, `get_coffee` and `get_tea`, that returns a string describing the beverage. Use function arguments to adjust the milk and sugar. Some example return strings are given below:\n",
    "\n",
    "```\n",
    "'black coffee with no sugar'\n",
    "'white tea with one sugar'\n",
    "'white coffee with three sugars'\n",
    "```\n",
    "\n",
    "If the `get_coffee` function is called without any arguments, it should return \n",
    "\n",
    "```\n",
    "'black coffee with no sugar'\n",
    "```\n",
    "\n",
    "If the `get_tea` function is called without any arguments, it should return \n",
    "\n",
    "```\n",
    "'white tea with no sugar'\n",
    "```\n",
    "\n",
    "\n"
   ]
  },
  {
   "cell_type": "code",
   "execution_count": 3,
   "metadata": {},
   "outputs": [],
   "source": [
    "# write and call your beverage functions here:"
   ]
  },
  {
   "cell_type": "markdown",
   "metadata": {},
   "source": [
    "## 2.2 Mutable Arguments\n",
    "\n",
    "\n",
    "If we use a mutable object as the argument for a function, then we can write statements inside that function that will change the objects' values. \n",
    "\n",
    "Like this:"
   ]
  },
  {
   "cell_type": "code",
   "execution_count": 4,
   "metadata": {},
   "outputs": [
    {
     "data": {
      "text/plain": [
       "{'Alice': '01234', 'Bob': '09876'}"
      ]
     },
     "execution_count": 4,
     "metadata": {},
     "output_type": "execute_result"
    }
   ],
   "source": [
    "def add_to_phone_book(name, number, book):\n",
    "    if name not in book:\n",
    "        book[name] = number\n",
    "    return book\n",
    "\n",
    "my_phone_book = {'Alice':'01234'}\n",
    "\n",
    "add_to_phone_book('Bob', '09876', my_phone_book)\n",
    "\n",
    "my_phone_book"
   ]
  },
  {
   "cell_type": "markdown",
   "metadata": {},
   "source": [
    "Note that the above function also returns the reference to the original object:"
   ]
  },
  {
   "cell_type": "markdown",
   "metadata": {},
   "source": [
    "### Concept Check: Mutable Arguments\n",
    "\n",
    "What do you think the contents of `my_book` are? \n",
    "\n",
    "Do you think that `my_book` and `your_book` are the same object?\n",
    "\n",
    "Write some code below, to see if your answers were correct.\n"
   ]
  },
  {
   "cell_type": "code",
   "execution_count": 5,
   "metadata": {},
   "outputs": [],
   "source": [
    "your_book = {'Charlie': '02468'}\n",
    "\n",
    "some_random_book = add_to_phone_book('David', '01357', your_book)\n",
    "\n",
    "# what's the contents of your_book? \n",
    "\n",
    "# what's the contents of some_random_book?\n",
    "\n",
    "# how can you check that they are actually the same object?\n"
   ]
  },
  {
   "cell_type": "markdown",
   "metadata": {},
   "source": [
    "\n",
    "### 2.2.1 Avoid 'Side Effects' with Mutable Arguments\n",
    "\n",
    "A function should only modify mutable arguments if this is intended and explicitly signalled to the user of the function.  "
   ]
  },
  {
   "cell_type": "code",
   "execution_count": 6,
   "metadata": {},
   "outputs": [
    {
     "name": "stdout",
     "output_type": "stream",
     "text": [
      "1\n"
     ]
    }
   ],
   "source": [
    "# Example of a function with no side effects.\n",
    "# Assume x is an immutable object.\n",
    "\n",
    "def add_five(x):\n",
    "    return x + 5\n",
    "\n",
    "x = 1\n",
    "add_five(x)\n",
    "print(x) # We see that x is unchanged because add_five has no side effects."
   ]
  },
  {
   "cell_type": "code",
   "execution_count": 7,
   "metadata": {},
   "outputs": [
    {
     "name": "stdout",
     "output_type": "stream",
     "text": [
      "5\n",
      "4\n",
      "3\n",
      "2\n",
      "1\n",
      "x is:  []\n"
     ]
    }
   ],
   "source": [
    "# Example of a function with side_effects\n",
    "def print_list(x):\n",
    "    while x:\n",
    "        value = x.pop()\n",
    "        print(value)\n",
    "        \n",
    "x = [1,2,3,4,5]\n",
    "print_list(x)\n",
    "print('x is: ', x) # We see that x has changed as print_list has side effects"
   ]
  },
  {
   "cell_type": "markdown",
   "metadata": {},
   "source": [
    "### Concept Check: Mutating the imput argument object\n",
    "\n",
    "Modify this function so that the original address book object has those entries removed, and is returned by the function. "
   ]
  },
  {
   "cell_type": "code",
   "execution_count": 8,
   "metadata": {},
   "outputs": [],
   "source": [
    "def remove_entries(address_book, begins_with):\n",
    "    remove_item = [item for item in address_book if item.find(begins_with)==0]\n",
    "    for i in remove_item:\n",
    "        address_book.pop(i)\n",
    "    return address_book\n"
   ]
  },
  {
   "cell_type": "code",
   "execution_count": 9,
   "metadata": {},
   "outputs": [],
   "source": [
    "# Write your code here"
   ]
  },
  {
   "cell_type": "code",
   "execution_count": 10,
   "metadata": {},
   "outputs": [
    {
     "data": {
      "text/plain": [
       "{'malice': '2345', 'bob': '4567', 'charlie': '5678'}"
      ]
     },
     "execution_count": 10,
     "metadata": {},
     "output_type": "execute_result"
    }
   ],
   "source": [
    "address_book = {\n",
    "    'alice': '1234', \n",
    "    'malice' : '2345',\n",
    "    'alice springs' : '3456',\n",
    "    'bob':'4567',\n",
    "    'charlie': '5678'\n",
    "    }\n",
    "\n",
    "remove_entries(address_book, 'alice')"
   ]
  },
  {
   "cell_type": "markdown",
   "metadata": {},
   "source": [
    "---\n",
    "### 2.2.2 Avoid Mutable Default Arguments\n",
    "\n",
    "As a general rule: don't use a mutable object (like a list, or a dictionary) as a default argument. \n",
    "\n",
    "If we use a mutable default argument, then we get odd results: Python creates the object just once (when it is defined) as opposed to each time it gets called (which is what we might expect). \n",
    "\n",
    "It is recommended that default arguments are immutable.\n",
    "\n"
   ]
  },
  {
   "cell_type": "code",
   "execution_count": 11,
   "metadata": {},
   "outputs": [
    {
     "data": {
      "text/plain": [
       "{'Zach': '09876', 'Abel': '01234'}"
      ]
     },
     "execution_count": 11,
     "metadata": {},
     "output_type": "execute_result"
    }
   ],
   "source": [
    "\n",
    "def add_to_phone_book(name, number, book={}): # WRONG\n",
    "    if name not in book:\n",
    "        book[name] = number\n",
    "    return book\n",
    "\n",
    "my_book   = add_to_phone_book('Zach', '09876')\n",
    "\n",
    "your_book = add_to_phone_book('Abel', '01234')\n",
    "\n",
    "# we are expecting your_book to contain {'Abel', '01234'}:\n",
    "\n",
    "your_book"
   ]
  },
  {
   "cell_type": "markdown",
   "metadata": {},
   "source": [
    "### Concept Check: Mutable Default Arguments \n",
    "\n",
    "Fix the function written below, so that it works as expected.\n",
    "\n",
    "See bottom of notebook for a hint. \n",
    "\n",
    "(Bottom of notebook hint: change the default argument '{}' into something immutable, and then check for that value inside the function, making a new dictionary when you find it.)"
   ]
  },
  {
   "cell_type": "code",
   "execution_count": 12,
   "metadata": {
    "scrolled": true
   },
   "outputs": [
    {
     "data": {
      "text/plain": [
       "{'Zach': '09876', 'Yasmine': '08642'}"
      ]
     },
     "execution_count": 12,
     "metadata": {},
     "output_type": "execute_result"
    }
   ],
   "source": [
    "# Fix the function written below, so that it works as expected:\n",
    "\n",
    "def add_to_phone_book(name, number, book = tuple()):\n",
    "    my_dict = {}\n",
    "    if book != ():\n",
    "        my_dict = book\n",
    "    if name not in my_dict:\n",
    "        my_dict[name] = number\n",
    "    return my_dict\n",
    "my_book = {}\n",
    "my_book   = add_to_phone_book('Zach', '09876')\n",
    "\n",
    "add_to_phone_book('Yasmine', '08642', my_book)\n",
    "\n",
    "your_book = add_to_phone_book('Abel', '01234')\n",
    "\n",
    "# we are expecting my_book to contain {'Zach': '09876', Yasmine: '08642'},\n",
    "#            and your_book to contain {'Abel': '01234'}\n",
    "\n",
    "my_book"
   ]
  },
  {
   "cell_type": "code",
   "execution_count": 13,
   "metadata": {},
   "outputs": [],
   "source": [
    "def add_to_phone_book(name, number, book = None):\n",
    "    if book == None:\n",
    "        book = {}\n",
    "    if name not in book:\n",
    "        book[name] = number\n",
    "    return book"
   ]
  },
  {
   "cell_type": "code",
   "execution_count": 14,
   "metadata": {},
   "outputs": [
    {
     "data": {
      "text/plain": [
       "{'Abel': '01234'}"
      ]
     },
     "execution_count": 14,
     "metadata": {},
     "output_type": "execute_result"
    }
   ],
   "source": [
    "your_book"
   ]
  },
  {
   "cell_type": "markdown",
   "metadata": {},
   "source": [
    "### Concept Check: Functions that Call Functions, and Default Arguments\n",
    "\n",
    "\n",
    "1. Create a function that takes in a value x, and returns 3x**2 + 2x - 5.\n",
    "   Call this function f.\n",
    "   Input : x (number)\n",
    "   Output: 3x**2 + 2x - 5 evaluated at input x.\n",
    "\n",
    "2. Write a function to compute the derivative of a function f. Use the finite difference method.\n",
    "   Inputs:\n",
    "   - f (function)\n",
    "   - x (point where the derivative will be calculated)\n",
    "   - epsilon (peturbation: default=0.0001)\n",
    "   Output:\n",
    "   - Derivative of f at point x.\n"
   ]
  },
  {
   "cell_type": "code",
   "execution_count": 15,
   "metadata": {},
   "outputs": [],
   "source": [
    "# Write your code here"
   ]
  },
  {
   "cell_type": "markdown",
   "metadata": {},
   "source": [
    "## 2.3 Keyword Arguments\n",
    "\n",
    "So far in this notebook, we have been using 'positional arguments': the first object is matched to the first argument, the second object is matched to the second argument, and so on. \n",
    "\n",
    "For example, below we define a function and when call it the objects we provide ('rye', 'pastrami', 'mustard') are matched against the function arguments ('bread', 'filling', 'extras' ).\n",
    "\n",
    "\n",
    "\n",
    "\n"
   ]
  },
  {
   "cell_type": "code",
   "execution_count": 16,
   "metadata": {},
   "outputs": [
    {
     "data": {
      "text/plain": [
       "'pastrami on rye with mustard too'"
      ]
     },
     "execution_count": 16,
     "metadata": {},
     "output_type": "execute_result"
    }
   ],
   "source": [
    "def get_sandwich(bread, filling, extras):\n",
    "    out_str = f'{filling} on {bread} with {extras} too'\n",
    "    return out_str\n",
    "\n",
    "# using positional arguments: match using their position 1, 2, 3...\n",
    "\n",
    "get_sandwich('rye', 'pastrami', 'mustard')"
   ]
  },
  {
   "cell_type": "markdown",
   "metadata": {},
   "source": [
    "However, we can also use 'keyword arguments' to match the objects with the arguments, using the argument *names*, rather than the *positions*: \n"
   ]
  },
  {
   "cell_type": "code",
   "execution_count": 17,
   "metadata": {},
   "outputs": [
    {
     "data": {
      "text/plain": [
       "'pastrami on rye with mustard too'"
      ]
     },
     "execution_count": 17,
     "metadata": {},
     "output_type": "execute_result"
    }
   ],
   "source": [
    "# using keyword arguments\n",
    "\n",
    "get_sandwich(extras='mustard', filling='pastrami', bread='rye')"
   ]
  },
  {
   "cell_type": "markdown",
   "metadata": {},
   "source": [
    "### 2.3.1 Positional Arguments Precede Keyword Arguments\n",
    "\n",
    "When calling a function, the positional arguments must precede the keyword arguments:\n"
   ]
  },
  {
   "cell_type": "code",
   "execution_count": 18,
   "metadata": {},
   "outputs": [
    {
     "ename": "SyntaxError",
     "evalue": "positional argument follows keyword argument (3460593794.py, line 1)",
     "output_type": "error",
     "traceback": [
      "\u001b[1;36m  Input \u001b[1;32mIn [18]\u001b[1;36m\u001b[0m\n\u001b[1;33m    get_sandwich(extras='mustard', 'pastrami', 'rye') # WRONG\u001b[0m\n\u001b[1;37m                                                    ^\u001b[0m\n\u001b[1;31mSyntaxError\u001b[0m\u001b[1;31m:\u001b[0m positional argument follows keyword argument\n"
     ]
    }
   ],
   "source": [
    "get_sandwich(extras='mustard', 'pastrami', 'rye') # WRONG"
   ]
  },
  {
   "cell_type": "markdown",
   "metadata": {},
   "source": [
    "### 2.3.2 Keyword Arguments and Default Arguments\n",
    "\n",
    "A quick review of these concepts:\n",
    "- Default Arguments are included where the function is *defined*, e.g. `g=9.81` assigns a default value for the argument `g`. \n",
    "- Keyword Arguments are written where the function is called, e.g. `extras='mustard'` will assign the value of `'mustard'` to the argument `extras`, this time the function is executed.\n",
    "\n",
    "Both keyword arguments and default arguments must be positioned after the regular positional arguments\n",
    "\n",
    "Keyword arguments work well with default arguments: a function may have many default values set up, and the user of the function can use keyword arguments to pick out only those values that they need to modify.\n",
    "\n",
    "This is shown in the example below:"
   ]
  },
  {
   "cell_type": "code",
   "execution_count": 19,
   "metadata": {},
   "outputs": [],
   "source": [
    "# Example of working with Keyword Arguments and Default Arguments\n",
    "\n",
    "def plot(x,y, colour='black', style='solid', thickness=1):\n",
    "    pass\n",
    "\n",
    "my_x = [1,2,3]\n",
    "my_y = [4,5,6]\n",
    "\n",
    "#only want change a subset of the total from their default values\n",
    "\n",
    "plot(my_x,my_y, style='dashed')"
   ]
  },
  {
   "cell_type": "markdown",
   "metadata": {},
   "source": [
    "## 2.4 Collections of Arguments\n",
    "\n",
    "We can define functions that can be called with a variable number of arguments.\n",
    "\n",
    "The function definiton can include a tuple of positional arguments (by convention, named `args`)  \n",
    "and a dictionary of keyword arguments (by convention, named `kwargs`.)\n",
    "\n",
    "\n",
    "###  2.4.1  Using `*args` to Define a Tuple of Positional Arguments\n",
    "\n",
    "We can create functions with an arbitrary number of positional arguments using `*args`."
   ]
  },
  {
   "cell_type": "code",
   "execution_count": 20,
   "metadata": {},
   "outputs": [],
   "source": [
    "# Using *args\n",
    "def print_everything(*args):\n",
    "    print('type(args) :', type(args))\n",
    "    print('-------------------------------------')\n",
    "    for i in args:\n",
    "        print(i)"
   ]
  },
  {
   "cell_type": "code",
   "execution_count": 21,
   "metadata": {},
   "outputs": [
    {
     "name": "stdout",
     "output_type": "stream",
     "text": [
      "type(args) : <class 'tuple'>\n",
      "-------------------------------------\n",
      "Apple\n",
      "Banana\n",
      "Carrot\n"
     ]
    }
   ],
   "source": [
    "print_everything('Apple', 'Banana', 'Carrot')"
   ]
  },
  {
   "cell_type": "code",
   "execution_count": 22,
   "metadata": {},
   "outputs": [
    {
     "name": "stdout",
     "output_type": "stream",
     "text": [
      "x   :  x_value\n",
      "y   :  y_value\n",
      "args: (1, 2, 3, 4, 5)\n"
     ]
    }
   ],
   "source": [
    "# We can have *args after some named positional arguments\n",
    "def args_example(x, y, *args):\n",
    "    print('x   : ', x)\n",
    "    print('y   : ', y)\n",
    "    print('args:', args)\n",
    "    \n",
    "args_example('x_value', 'y_value', 1,2,3,4,5)"
   ]
  },
  {
   "cell_type": "markdown",
   "metadata": {},
   "source": [
    "### 2.4.2 Using `**kwargs` to Define a Dictionary of Keyword Arguments\n",
    "\n",
    "We can define functions using a variable number of keyworded arguments by using `**kwargs` argument.  \n",
    "\n",
    "This is particularly useful when we have functions that call other functions."
   ]
  },
  {
   "cell_type": "code",
   "execution_count": 23,
   "metadata": {},
   "outputs": [],
   "source": [
    "# This function accepts a variable number of keyworded arguments.\n",
    "def kwargs_example(**kwargs):\n",
    "    \n",
    "    print('type(kwargs): ', type(kwargs))\n",
    "    for i in kwargs:\n",
    "        print(i)\n",
    "    \n",
    "    # Mini-Challenge: print out the keyword arguments, one per line\n",
    "    "
   ]
  },
  {
   "cell_type": "code",
   "execution_count": 24,
   "metadata": {},
   "outputs": [
    {
     "name": "stdout",
     "output_type": "stream",
     "text": [
      "type(kwargs):  <class 'dict'>\n",
      "x\n",
      "y\n",
      "z\n",
      "python\n"
     ]
    }
   ],
   "source": [
    "kwargs_example(x=1, y=2, z=3, python='fun!')"
   ]
  },
  {
   "cell_type": "code",
   "execution_count": 25,
   "metadata": {},
   "outputs": [],
   "source": [
    "# Example of when to use kwargs.\n",
    "\n",
    "# Pre-defined function\n",
    "def plot(x, y, color, linestyle, marker, markersize):\n",
    "    # Do some plotting\n",
    "    pass\n",
    "\n",
    "'''\n",
    "# Our own function - without kwargs\n",
    "def process_and_plot(data, color, linestyle, marker, markersize):\n",
    "    # Data pre-processing\n",
    "    x = data[...]\n",
    "    y = data[...]\n",
    "    plot(x,y,color, linestyle, marker, markersize)\n",
    "'''\n",
    "\n",
    "# Our own function - with kwargs\n",
    "def process_and_plot(data, **kwargs):\n",
    "    # Data pre-processing\n",
    "    x = data[...]\n",
    "    y = data[...]\n",
    "    plot(x,y,**kwargs)\n"
   ]
  },
  {
   "cell_type": "markdown",
   "metadata": {},
   "source": [
    "### Concept Check: When to Use kwargs\n",
    "\n",
    "Here are three functions, each representing the preparation of a main course. They each have different optional arguments.\n",
    "   \n",
    "Write a function 'process_order' that can be used to get prepare the different orders, with their optional arguments.\n"
   ]
  },
  {
   "cell_type": "code",
   "execution_count": 26,
   "metadata": {},
   "outputs": [
    {
     "data": {
      "text/plain": [
       "'Getting you a Salmon, with crispy skin and plenty hoisin sauce'"
      ]
     },
     "execution_count": 26,
     "metadata": {},
     "output_type": "execute_result"
    }
   ],
   "source": [
    "def salmon( skin, hoisin = 'no'):\n",
    "    return f'Getting you a Salmon, with {skin} skin and {hoisin} hoisin sauce'\n",
    "\n",
    "def duck( how, sauce='orange'):\n",
    "    return f'Getting you a Duck, {how}, with a {sauce} sauce'\n",
    "\n",
    "def tofu(soy = 'plenty'):\n",
    "    return f'Getting you  a Tofu with {soy} of soy sauce'\n",
    "\n",
    "salmon(skin='crispy', hoisin = 'plenty')"
   ]
  },
  {
   "cell_type": "code",
   "execution_count": 27,
   "metadata": {},
   "outputs": [],
   "source": [
    "# Write your code here"
   ]
  },
  {
   "cell_type": "code",
   "execution_count": 29,
   "metadata": {},
   "outputs": [],
   "source": [
    "\n",
    "# when you have written your function, the following statements should work:\n",
    "\n",
    "#process_order(salmon, skin='crispy', hoisin = 'plenty')\n",
    "#process_order(duck, how='rare', sauce='cherry')\n",
    "#process_order(tofu, soy = 'not much')"
   ]
  },
  {
   "cell_type": "markdown",
   "metadata": {},
   "source": [
    "### 2.4.3 Using Both `args` and `kwargs`\n"
   ]
  },
  {
   "cell_type": "code",
   "execution_count": 30,
   "metadata": {},
   "outputs": [],
   "source": [
    "# Defining a function that uses *args and **kwargs.\n",
    "# We can define functions that accept a variable number \n",
    "# of positional and keyworded arguments.\n",
    "\n",
    "def my_func(*args, **kwargs):\n",
    "    print(args)\n",
    "    print(kwargs)"
   ]
  },
  {
   "cell_type": "code",
   "execution_count": 31,
   "metadata": {},
   "outputs": [
    {
     "name": "stdout",
     "output_type": "stream",
     "text": [
      "(1, 2, 3)\n",
      "{'x': 10, 'y': 20, 'z': 30}\n"
     ]
    }
   ],
   "source": [
    "my_func(1,2,3,x=10,y=20,z=30)"
   ]
  },
  {
   "cell_type": "code",
   "execution_count": 32,
   "metadata": {},
   "outputs": [],
   "source": [
    "# We can mix *args and **kwargs with the standard positional and default arguments.\n",
    "def my_func_mix(a, *args, x=10, **kwargs):\n",
    "    print(args)\n",
    "    print(kwargs)"
   ]
  },
  {
   "cell_type": "code",
   "execution_count": 33,
   "metadata": {},
   "outputs": [
    {
     "name": "stdout",
     "output_type": "stream",
     "text": [
      "(2, 3)\n",
      "{'y': 20, 'z': 30}\n"
     ]
    }
   ],
   "source": [
    "my_func_mix(1,2,3,x=10,y=20,z=30)"
   ]
  }
 ],
 "metadata": {
  "kernelspec": {
   "display_name": "Python 3 (ipykernel)",
   "language": "python",
   "name": "python3"
  },
  "language_info": {
   "codemirror_mode": {
    "name": "ipython",
    "version": 3
   },
   "file_extension": ".py",
   "mimetype": "text/x-python",
   "name": "python",
   "nbconvert_exporter": "python",
   "pygments_lexer": "ipython3",
   "version": "3.9.12"
  }
 },
 "nbformat": 4,
 "nbformat_minor": 2
}
