{
 "cells": [
  {
   "cell_type": "markdown",
   "metadata": {},
   "source": [
    "---\n",
    "# 3. Built-in Types for Representing Data\n",
    "---\n",
    "\n",
    "In Python, data types fall under several categories:\n",
    "\n",
    "- 'No data' (`None`)\n",
    "- Numbers (`bool`, `int`, `float`, `complex`)\n",
    "- Sequences (`str`, `list`, `tuple`, `range`)\n",
    "- Maps (`dict`)\n",
    "  Sets (`set`, `frozenset`)\n"
   ]
  },
  {
   "cell_type": "markdown",
   "metadata": {},
   "source": [
    "## 3.1 `None`: the `NoneType` Data Type\n",
    "\n",
    "The value `None` represents 'no value' (as opposed to 'zero').\n",
    "\n",
    " \n"
   ]
  },
  {
   "cell_type": "code",
   "execution_count": 1,
   "metadata": {},
   "outputs": [
    {
     "name": "stdout",
     "output_type": "stream",
     "text": [
      "no data in x\n",
      "the type of x is <class 'NoneType'>\n"
     ]
    }
   ],
   "source": [
    "# 'None' represents 'no value'\n",
    "\n",
    "x = None\n",
    "\n",
    "if x==None:\n",
    "    print('no data in x')\n",
    "\n",
    "print('the type of x is', type(x))\n",
    "\n"
   ]
  },
  {
   "cell_type": "markdown",
   "metadata": {},
   "source": [
    "### Concept Check: None\n",
    "\n",
    "1. What is printed out, `oranges` or `lemons`?\n",
    "```\n",
    "choice = None\n",
    "if choice=='None':\n",
    "    print('oranges')\n",
    "else:\n",
    "    print('lemons')\n",
    "```\n",
    "2. What is printed out, `lupins` or `lumberjacks`?\n",
    "```\n",
    "choice = None\n",
    "if not choice:\n",
    "    print('lupins')\n",
    "else:\n",
    "    print('lumberjacks')\n",
    "```\n",
    "\n",
    "2. What is `None + None`?"
   ]
  },
  {
   "cell_type": "code",
   "execution_count": 2,
   "metadata": {},
   "outputs": [
    {
     "name": "stdout",
     "output_type": "stream",
     "text": [
      "lupins\n"
     ]
    }
   ],
   "source": [
    "# Record your answer here\n",
    "# 1.oranges, 2. lupins\n",
    "\n",
    "# Use the space below to check if you were correct\n",
    "choice = None\n",
    "if not choice:\n",
    " print('lupins')\n",
    "else:\n",
    " print('lumberjacks')"
   ]
  },
  {
   "cell_type": "markdown",
   "metadata": {},
   "source": [
    "\n",
    "## 3.2 Numbers\n",
    "\n",
    "Four built-in types of number are `bool`, `int`, `float` and `complex`. \n",
    "\n",
    "Operations between different types of numbers will produce specific types of number as an output. \n",
    "\n",
    "In general, the accuracy of output is prioritised, as the following examples show.\n"
   ]
  },
  {
   "cell_type": "markdown",
   "metadata": {},
   "source": [
    "### The Boolean Data Type\n",
    "\n",
    "The Boolean data type has two values: `True` and `False`, numerically equivalent to 1 and 0 respectively.\n",
    "\n",
    "- Note the capital first letters (not `true`)\n",
    "- Note the absense of quotes (not `'True'` -- what data type is this?)\n",
    "\n"
   ]
  },
  {
   "cell_type": "code",
   "execution_count": 19,
   "metadata": {},
   "outputs": [
    {
     "name": "stdout",
     "output_type": "stream",
     "text": [
      "x is a bool\n",
      "value is False\n"
     ]
    }
   ],
   "source": [
    "# Booleans, True and False are restricted set of integers (0=False, 1=True)\n",
    "\n",
    "x = True # numerically equivalent to 1\n",
    "y = False # numerically equivalent to 0\n",
    "\n",
    "\n",
    "# the type of these variables is bool:\n",
    "if type(x)==bool:\n",
    "    print('x is a bool')\n",
    "else:\n",
    "    print('x is NOT a bool')\n",
    "\n",
    "# bool variables can be directly evaluated in 'if' statements, like this:\n",
    "if y:\n",
    "    print('value is True')\n",
    "else:\n",
    "    print('value is False')\n",
    "    \n"
   ]
  },
  {
   "cell_type": "markdown",
   "metadata": {},
   "source": [
    "### Adding booleans\n",
    "\n",
    "- Using the '+' operator on booleans results in an integer.\n",
    "- we can also use the built-in function `sum` to add up the `True` occurrences in a list of tuple"
   ]
  },
  {
   "cell_type": "code",
   "execution_count": 20,
   "metadata": {},
   "outputs": [
    {
     "name": "stdout",
     "output_type": "stream",
     "text": [
      "value of z is 2\n"
     ]
    }
   ],
   "source": [
    "# adding booleans:\n",
    "x = True\n",
    "y = True\n",
    "z = x+y\n",
    "print('value of z is', z)\n",
    "\n",
    "\n",
    "\n",
    "boolean_list = [True, True, True, False, False]\n",
    "\n",
    "# use the 'sum' function to add up the number of true occurrences in boolean_list\n"
   ]
  },
  {
   "cell_type": "markdown",
   "metadata": {},
   "source": [
    "###  Integer Numbers \n",
    "\n",
    "In addition to the four regular arithmetic operators (`+`, `-`, `*` and `/`) we also have:\n",
    "- the power operator, '`**`'\n",
    "- the 'floor division' operator, '`//`'\n",
    "- the 'modulo' operator, '`%`'\n"
   ]
  },
  {
   "cell_type": "code",
   "execution_count": 21,
   "metadata": {
    "scrolled": true
   },
   "outputs": [
    {
     "name": "stdout",
     "output_type": "stream",
     "text": [
      "adding two integers results in a type of <class 'int'>\n"
     ]
    }
   ],
   "source": [
    "# adding two integers together will produce another integer:\n",
    "\n",
    "x = 10\n",
    "y = 20\n",
    "result = x+y\n",
    "print('adding two integers results in a type of', type(result))\n",
    "\n",
    "# same is also true for multiplication and subtraction: what about division?\n"
   ]
  },
  {
   "cell_type": "markdown",
   "metadata": {},
   "source": [
    "### a%n\n",
    "\n",
    "### r = a - (n * floor(a/n))\n",
    "floor() in this equation means that it uses floor division. With positive numbers, floor division will return the same result as truncated division. But with a negative number, floor division will round the result down, away from zero"
   ]
  },
  {
   "cell_type": "markdown",
   "metadata": {},
   "source": [
    "\n",
    "### Concept Check: division and modulo operators\n",
    "\n",
    "25//10\n",
    "\n",
    "\n"
   ]
  },
  {
   "cell_type": "code",
   "execution_count": 5,
   "metadata": {},
   "outputs": [
    {
     "name": "stdout",
     "output_type": "stream",
     "text": [
      "-10 4\n",
      "-9 5\n",
      "-8 6\n",
      "-7 0\n",
      "-6 1\n",
      "-5 2\n",
      "-4 3\n",
      "-3 4\n",
      "-2 5\n",
      "-1 6\n",
      "0 0\n",
      "1 1\n",
      "2 2\n",
      "3 3\n",
      "4 4\n",
      "5 5\n",
      "6 6\n",
      "7 0\n",
      "8 1\n",
      "9 2\n"
     ]
    }
   ],
   "source": [
    "# remainder operator :\n",
    "# also known as 'modulo'\n",
    "25%10\n",
    "\n",
    "for i in range(-10,10):\n",
    "    print(i, i%7)"
   ]
  },
  {
   "cell_type": "code",
   "execution_count": 16,
   "metadata": {},
   "outputs": [
    {
     "data": {
      "text/plain": [
       "3"
      ]
     },
     "execution_count": 16,
     "metadata": {},
     "output_type": "execute_result"
    }
   ],
   "source": [
    "-9%6"
   ]
  },
  {
   "cell_type": "markdown",
   "metadata": {},
   "source": [
    "###  Floating Point Numbers \n",
    "\n",
    "This type can hold non-integer (real) numbers\n",
    "\n",
    "- note that 5.0 is a `float`, not an `int`\n",
    "- large floating point numbers may be printed in scientific format e.g. 'e+6' means 'million'"
   ]
  },
  {
   "cell_type": "code",
   "execution_count": 17,
   "metadata": {},
   "outputs": [
    {
     "name": "stdout",
     "output_type": "stream",
     "text": [
      "1e+100\n"
     ]
    }
   ],
   "source": [
    "x = 10.0**100 # what is this large floating-point number called?\n",
    "print(x)"
   ]
  },
  {
   "cell_type": "markdown",
   "metadata": {},
   "source": [
    "### Complex Numbers \n",
    "\n",
    "- Complex numbers include an 'imaginary' component\n",
    "- One way to obtain an imaginary component is to take the square root of a negative number\n",
    "- As the example below shows, python prints the imaginary component after the real component, using a 'j' as a suffix "
   ]
  },
  {
   "cell_type": "code",
   "execution_count": 18,
   "metadata": {},
   "outputs": [
    {
     "name": "stdout",
     "output_type": "stream",
     "text": [
      "(2+3j)\n"
     ]
    }
   ],
   "source": [
    "\n",
    "x = (-9)**0.5 + 2\n",
    "print(x)"
   ]
  },
  {
   "cell_type": "markdown",
   "metadata": {},
   "source": [
    "## Summary\n",
    "\n",
    "- The boolean values `True` and `False` are numerically equivalent to 1 and 0.\n",
    "- Adding two booleans will always produce an integer.\n",
    "- Dividing one integer by another will always produce a floating point number, even if the division is exact.\n",
    "- The 'floor division' operator `//` will instead round down the division to the nearest integer.\n",
    "- The 'modulo' operator `%` produces the remainder that results from the floor division. This is handy for indicating whether a number is odd or even.\n"
   ]
  }
 ],
 "metadata": {
  "kernelspec": {
   "display_name": "Python 3 (ipykernel)",
   "language": "python",
   "name": "python3"
  },
  "language_info": {
   "codemirror_mode": {
    "name": "ipython",
    "version": 3
   },
   "file_extension": ".py",
   "mimetype": "text/x-python",
   "name": "python",
   "nbconvert_exporter": "python",
   "pygments_lexer": "ipython3",
   "version": "3.9.12"
  }
 },
 "nbformat": 4,
 "nbformat_minor": 2
}
