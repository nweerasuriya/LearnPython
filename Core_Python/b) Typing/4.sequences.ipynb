{
 "cells": [
  {
   "cell_type": "markdown",
   "metadata": {},
   "source": [
    "---\n",
    "# 4. Sequence Types\n",
    "---\n",
    "\n",
    "Sequences can be indexed using non-negative numbers.\n",
    "Examples include strings, lists and tuples.\n",
    "All sequences support slicing and iteration.\n",
    "\n",
    "In this section, we shall cover:\n",
    "- Concatenation (using `+`)\n",
    "- Copying (using `*`)\n",
    "- Slicing (using `[::]`)\n",
    "- Membership (using `in`)\n",
    "- Aggregation functions and methods (max, min, mean, count)\n",
    "- Further methods of the String sequence type "
   ]
  },
  {
   "cell_type": "markdown",
   "metadata": {},
   "source": [
    "## Concatenation\n",
    "\n",
    "Two or more sequences can be joined together using the `+` operator."
   ]
  },
  {
   "cell_type": "code",
   "execution_count": null,
   "metadata": {},
   "outputs": [],
   "source": [
    "# first demonstrate with strings:\n",
    "\n",
    "s1 = 'The wheels on the bus '\n",
    "s2 = 'go round and round '\n",
    "\n",
    "# concat\n",
    "s3 = s1+s2\n",
    "print(s3)"
   ]
  },
  {
   "cell_type": "code",
   "execution_count": null,
   "metadata": {},
   "outputs": [],
   "source": [
    "# then demonstrate with two lists\n",
    "l1 = [1,2,3]\n",
    "l2 = [4,5,6]\n",
    "l3 = l1+l2\n",
    "print(l3)"
   ]
  },
  {
   "cell_type": "markdown",
   "metadata": {},
   "source": [
    "## Copying\n",
    "\n",
    "A sequence `s` can be copied `N` times by forming the expression `s*N`, i.e. using the `*` operator."
   ]
  },
  {
   "cell_type": "code",
   "execution_count": null,
   "metadata": {},
   "outputs": [],
   "source": [
    "# copying -- multiplying a sequence by a number n copies it n times\n",
    "print(s2*3)"
   ]
  },
  {
   "cell_type": "code",
   "execution_count": null,
   "metadata": {},
   "outputs": [],
   "source": [
    "# demonstrate copying on a tuple\n",
    "\n",
    "jobs = ['Tinker', 'Tailor', 'Soldier', 'Sailor']\n",
    "more_jobs = jobs*3\n",
    "print(more_jobs)"
   ]
  },
  {
   "cell_type": "markdown",
   "metadata": {},
   "source": [
    "### Concept Check -- Sequence Copying\n",
    "\n",
    "Use sequence copying to create a grid of zeros, represented as a list of lists. Let the number of rows be `num_rows` and the number of columns be `num_cols`. Example output f"
   ]
  },
  {
   "cell_type": "code",
   "execution_count": null,
   "metadata": {},
   "outputs": [],
   "source": [
    "num_rows = 6\n",
    "num_cols = 7\n",
    "grid = [[0]*num_rows]*num_cols\n",
    "print(*grid)"
   ]
  },
  {
   "cell_type": "code",
   "execution_count": null,
   "metadata": {},
   "outputs": [],
   "source": [
    "[[1]*3]*2\n"
   ]
  },
  {
   "cell_type": "code",
   "execution_count": null,
   "metadata": {
    "scrolled": true
   },
   "outputs": [],
   "source": [
    "zero = [0]\n",
    "zero_list = [[0]*num_rows]\n",
    "zero_grid = zero_list*num_cols\n",
    "print(zero_grid)\n",
    "\n",
    "for item in zero_grid:\n",
    "    print(item)\n",
    "    \n"
   ]
  },
  {
   "cell_type": "code",
   "execution_count": null,
   "metadata": {},
   "outputs": [],
   "source": [
    "##Note it is not an actual grid, it just a copy of the original list\n",
    "zero_grid[2][1]\n",
    "print(zero_grid)"
   ]
  },
  {
   "cell_type": "markdown",
   "metadata": {},
   "source": [
    "## Indexing\n",
    "\n",
    "If the sequence has `n` elements, then each element can be accessed by putting an integer index value (of between 0 and `n-1`) in square brackets after its variable name. \n"
   ]
  },
  {
   "cell_type": "code",
   "execution_count": null,
   "metadata": {},
   "outputs": [],
   "source": [
    "# Finish writing the code below to demonstrate indexing and slicing\n",
    "# First demonstrate with lists:\n",
    "\n",
    "# first_job = \n",
    "# num_jobs = \n",
    "# last_job = \n",
    "\n",
    "#print('first job is', first_job, 'and last job is', last_job)\n",
    "\n",
    "# then demonstrate on strings:\n",
    "\n",
    "# first_letter = \n",
    "# num_letters = \n",
    "# last_letter = \n",
    "\n",
    "#print('for', first_job, ': first letter is', first_letter, 'and last letter is', last_letter)\n",
    "\n"
   ]
  },
  {
   "cell_type": "markdown",
   "metadata": {},
   "source": [
    "### Concept Check: Indexing\n",
    "\n",
    "The variable `x` is assigned to a list of 10 strings. Assign values to these strings so that the list starts with '1', '2', '3' and ends with '3', '2', '1':\n",
    "```\n",
    "['1', '2', '3', '-', '-', '-', '-', '3', '2', '1']\n",
    "```\n"
   ]
  },
  {
   "cell_type": "code",
   "execution_count": null,
   "metadata": {},
   "outputs": [],
   "source": [
    "x = ['-']*10\n",
    "\n",
    "for num in range(0,3):\n",
    "    x[num] = num + 1\n",
    "    x[(num+1)*(-1)] = num + 1\n",
    "\n",
    "\n",
    "print(x)"
   ]
  },
  {
   "cell_type": "code",
   "execution_count": null,
   "metadata": {},
   "outputs": [],
   "source": [
    "m = 11\n",
    "x = ['-'*m]*m\n",
    "print(*x, sep='\\n')"
   ]
  },
  {
   "cell_type": "code",
   "execution_count": null,
   "metadata": {},
   "outputs": [],
   "source": [
    "# Write your own code here"
   ]
  },
  {
   "cell_type": "markdown",
   "metadata": {},
   "source": [
    "## Slicing\n",
    "\n",
    "Most simply, the square brackets hold integers from 0 up to (but not including) the length of the sequence.\n",
    "\n",
    "However, more complex indexing operations are also possible: these are known as *slices*. Here are some of the slicing rules:\n",
    "\n",
    "- Negative numbers count from the back, so `[-1]` indexes the last element in the sequence.\n",
    "- Two numbers, separated by a colon, define a subsequence from the original sequence. The first number is inclusive and the second number is exclusive, and 0 is the start of the sequence (as usual). So `[2:4]` indexes the third and fourth elements in the sequence.\n",
    "- If a single colon is present but the first number is missing, then the sub-sequence starts at the beginning of the original sequence. So, `[:3]` indexes the first, second and third elements of the sequence. \n",
    "- If a single colon is present but the second number is missing, then the sub-sequence ends at the end of the original sequence. So, `[-2:]` indexes the penultimate and last elements of the original sequence. \n",
    "- If a second colon is present, then the number after this colon specifies the 'step' (or 'stride') of the slice. So, a slice `[10:20:2]` will include elements 10, 12, 14, 16 and 18, incrementing in steps of 2, and excluding the final index. "
   ]
  },
  {
   "cell_type": "code",
   "execution_count": null,
   "metadata": {},
   "outputs": [],
   "source": [
    "#slicing\n",
    "print('original list:', jobs)\n",
    "# single element, counting from the end\n",
    "print('jobs[-1]', jobs[-1])\n",
    "# in the middle\n",
    "print('jobs[1:3]', jobs[1:3])\n",
    "# slice from the start\n",
    "print('jobs[:2]', jobs[:2])\n",
    "# slice to the end\n",
    "print('jobs[2:]', jobs[2:])\n",
    "# every other job\n",
    "print('jobs[::2]', jobs[::2])\n",
    "# reverse by using negative step \n",
    "jobs[::-1]"
   ]
  },
  {
   "cell_type": "code",
   "execution_count": null,
   "metadata": {},
   "outputs": [],
   "source": [
    "# all the above apply to lists and tuples:\n",
    "my_guest_list = ['Alice', 'Bob', 'Charlie', 'Dalraj', 'Emily', 'Figaro', 'Guy', 'Henry']\n",
    "my_guest_list[1:-1]\n"
   ]
  },
  {
   "cell_type": "markdown",
   "metadata": {},
   "source": [
    "\n",
    "### Concept Check: Slicing Operations\n",
    "\n",
    "- Create a list containing three your favourite activities. Store in `my_activities`.\n",
    "- Create another list containing three favourite activities for a friend. Store in `friend_activities`.\n",
    "- Concatenate the two lists together and store into a new list `combined_list`.\n",
    "- Copy the list three times and store into a new variable `combined_list_x3`. Is the id of `combined_list` and `combined_list_x3` the same? Why / why not?\n",
    "- Use slicing on combined_list to select the activities enjoyed by your friend.\n",
    "- Use a slice with a negative step size to reverse the order of `combined_list`."
   ]
  },
  {
   "cell_type": "code",
   "execution_count": null,
   "metadata": {},
   "outputs": [],
   "source": [
    "# write your code here:\n",
    "#Not the same as id as new list defined not modified old list"
   ]
  },
  {
   "cell_type": "markdown",
   "metadata": {},
   "source": [
    "## Iteration\n",
    "\n",
    "Use the `for` statement to iterate over the elements in a list (or indeed the elements in any container):"
   ]
  },
  {
   "cell_type": "code",
   "execution_count": null,
   "metadata": {},
   "outputs": [],
   "source": [
    "for person in my_guest_list:\n",
    "    print(person, 'is on the guest list')\n",
    "    \n"
   ]
  },
  {
   "cell_type": "markdown",
   "metadata": {},
   "source": [
    "## The `in` membership operator\n",
    "\n",
    "- The expression `item in sequence` will return `True` if `item` is contained in `sequence`, and otherwise `False`. \n",
    "- This membership operator can also be applied to the mapping types (see next section).\n"
   ]
  },
  {
   "cell_type": "code",
   "execution_count": null,
   "metadata": {},
   "outputs": [],
   "source": [
    "# Example use of 'in' lists:\n",
    "\n",
    "my_list = [1,2,3]\n",
    "x = [1]\n",
    "if x in my_list:\n",
    "    print(x, 'is in', my_list)\n",
    "else:\n",
    "    print(x, 'is NOT in', my_list)\n",
    "\n",
    "result = 'He' in 'Henry'\n",
    "type(result)\n",
    "x = int(result)\n",
    "x"
   ]
  },
  {
   "cell_type": "markdown",
   "metadata": {},
   "source": [
    "### Concept Check -- Using the Membership Operator\n",
    "\n",
    "If `example_list = ['Alice', 'Bob', 'Charlie', 123]` and `example_string = 'abcdefghijklmnopqrstuvwxyz'`, which of the following evaluate as `True`? What differences can you observe between string and list sequences?\n",
    "\n",
    "- `'a' in example_string`\n",
    "- `'Alice' in example_list`\n",
    "- `'abc' in example_string`\n",
    "- `['Alice', 'Bob'] in example_list`\n",
    "- `['Alice'] in example_list`\n",
    "- `'Ali' in example_list`\n",
    "- `'ABC' in example_string`\n",
    "- `123.0 in example_list`\n",
    "- `'123' in example_list`\n",
    "\n"
   ]
  },
  {
   "cell_type": "code",
   "execution_count": null,
   "metadata": {},
   "outputs": [],
   "source": [
    "# Write your code here\n",
    "example_list = ['Alice', 'Bob', 'Charlie', 123]\n",
    "example_string = 'abcdefghijklmnopqrstuvwxyz'\n",
    "\n",
    "if 'a' in example_string:\n",
    "    print(True)\n",
    "else:\n",
    "    print(False)\n",
    "\n",
    "if 'Alice' in example_list:\n",
    "    print(True)\n",
    "else:\n",
    "    print(False)\n",
    "\n",
    "if 'abc' in example_string:\n",
    "    print(True)\n",
    "else:\n",
    "    print(False)\n",
    "if ['Alice', 'Bob'] in example_list:\n",
    "    print(True)\n",
    "else:\n",
    "    print(False)\n",
    "if ['Alice'] in example_list:\n",
    "    print(True)\n",
    "else:\n",
    "    print(False)\n",
    "if 'Ali' in example_list:\n",
    "    print(True)\n",
    "else:\n",
    "    print(False)\n",
    "if 'ABC' in example_string:\n",
    "    print(True)\n",
    "else:\n",
    "    print(False)\n",
    "if 123.0 in example_list:\n",
    "    print(True)\n",
    "else:\n",
    "    print(False)\n",
    "if '123' in example_list:\n",
    "    print(True)\n",
    "else:\n",
    "    print(False)"
   ]
  },
  {
   "cell_type": "markdown",
   "metadata": {},
   "source": [
    "## Aggregations\n",
    "\n",
    "An aggregator operates on a collection of data, reducing the output to a smaller set of values (often just one value). \n",
    "\n",
    "\n",
    "Some examples of aggregation functions:\n",
    "- Built-in functions: `len`, `sum`, `max` and `min`\n",
    "- Methods, e.g. `str.count()`\n",
    "- Functions from other modules and packages. For example, `numpy` is a 'numerical python' library that provides functions for calulating the mean and median values (among many other functions!)\n",
    "\n",
    "\n"
   ]
  },
  {
   "cell_type": "code",
   "execution_count": null,
   "metadata": {},
   "outputs": [],
   "source": [
    "# built-in aggregators\n",
    "\n",
    "my_list = [1,2,3,4,5]\n",
    "\n",
    "print('len', len(my_list))\n",
    "\n",
    "print('sum', sum(my_list))\n",
    "\n",
    "print('max', max(my_list))\n",
    "\n",
    "print('min', min(my_list))\n"
   ]
  },
  {
   "cell_type": "code",
   "execution_count": null,
   "metadata": {},
   "outputs": [],
   "source": [
    "# the string 'count' method is an aggregator \n",
    "\n",
    "greeting = 'hello world'\n",
    "letter_to_count = 'o'\n",
    "num_occurences = greeting.count(letter_to_count)\n",
    "\n",
    "print('There are', num_occurences, 'occurences of', letter_to_count, 'in', greeting)"
   ]
  },
  {
   "cell_type": "code",
   "execution_count": null,
   "metadata": {},
   "outputs": [],
   "source": [
    "import numpy as np\n",
    "\n",
    "my_list = [1,2,3,4,6]\n",
    "\n",
    "mean = np.mean(my_list)\n",
    "median = np.median(my_list)\n",
    "\n",
    "print('The mean is', mean, 'and the median is ', median)"
   ]
  },
  {
   "cell_type": "markdown",
   "metadata": {},
   "source": [
    "### Concept Check: Aggregations\n",
    "\n",
    "If `marks` is a list of integer marks, find the mean, median, mode and standard deviation of this data\n",
    "\n",
    "Hint: you can use aggregation functions in the `numpy` and `scipy` modules to do these\n"
   ]
  },
  {
   "cell_type": "code",
   "execution_count": null,
   "metadata": {},
   "outputs": [],
   "source": [
    "marks = [70, 56, 47,70, 32, 67, 90, \n",
    "         82, 71, 64, 70, 88, 83, 59, \n",
    "         51, 66, 76, 49, 84, 69, 50]\n"
   ]
  },
  {
   "cell_type": "code",
   "execution_count": null,
   "metadata": {},
   "outputs": [],
   "source": [
    "# Write your code here"
   ]
  },
  {
   "cell_type": "markdown",
   "metadata": {},
   "source": [
    "## Further String Methods\n",
    "\n",
    "In addition to the `count` method (above), you may already have encountered the following methods:\n",
    "- `lower`: returns a lower-case version of the original string\n",
    "- `upper`: returns an upper-case version of the original string\n",
    "- `title`: returns a title-case version of the original string\n",
    "- `replace`: replaces all occurences of one string with another string\n",
    "- `format`: inserts values into a string\n",
    "\n",
    "Below, some further string methods are introduced: \n",
    "- `find`: finds a substring within a string\n",
    "- `strip`: returns a string with any surrounding 'white space' stripped away  \n",
    "- `split`: splits a string into a list of substrings\n",
    "- `join`: joins together a list of substrings\n",
    "\n"
   ]
  },
  {
   "cell_type": "code",
   "execution_count": null,
   "metadata": {},
   "outputs": [],
   "source": [
    "my_string = \"The quick brown fox jumped over the lazy dog\""
   ]
  },
  {
   "cell_type": "code",
   "execution_count": null,
   "metadata": {},
   "outputs": [],
   "source": [
    "# count occurrences:\n",
    "\n",
    "my_string.count('e')\n"
   ]
  },
  {
   "cell_type": "code",
   "execution_count": null,
   "metadata": {},
   "outputs": [],
   "source": [
    "# count substring:\n",
    "my_string.count(' ')"
   ]
  },
  {
   "cell_type": "code",
   "execution_count": null,
   "metadata": {},
   "outputs": [],
   "source": [
    "# find the index of the first occurrence:\n",
    "\n",
    "substring = 'fox'\n",
    "\n",
    "index = my_string.find(substring)\n",
    "\n",
    "print(substring, 'occurs at index', index )\n",
    "\n",
    "# if it doesn't occur, then 'find' returns -1:\n",
    "\n",
    "substring = 'cat'\n",
    "\n",
    "index = my_string.find(substring)\n",
    "\n",
    "print(substring, 'occurs at index', index )\n"
   ]
  },
  {
   "cell_type": "code",
   "execution_count": null,
   "metadata": {},
   "outputs": [],
   "source": [
    "# replace substring with another substring\n",
    "my_string.replace('fox', 'cat')"
   ]
  },
  {
   "cell_type": "code",
   "execution_count": null,
   "metadata": {},
   "outputs": [],
   "source": [
    "# upper, lower and title cases:\n",
    "my_string.upper()"
   ]
  },
  {
   "cell_type": "code",
   "execution_count": null,
   "metadata": {},
   "outputs": [],
   "source": [
    "s1 = \"     \\t\\thello there\\n\\n     \"\n",
    "print(s1)\n",
    "s2 = s1.strip()\n",
    "print(s2)"
   ]
  },
  {
   "cell_type": "markdown",
   "metadata": {},
   "source": [
    "### The `split` and `join` Methods\n",
    "\n",
    "- `split` will return a list of substrings, splitting the original string by space (by default)\n",
    "- `join` takes a list of strings as an argument, and uses the subject string as the joining string."
   ]
  },
  {
   "cell_type": "code",
   "execution_count": null,
   "metadata": {},
   "outputs": [],
   "source": [
    "words = my_string.split()\n",
    "print(words)"
   ]
  },
  {
   "cell_type": "code",
   "execution_count": null,
   "metadata": {},
   "outputs": [],
   "source": [
    "your_string = '.'.join(words)\n",
    "your_string"
   ]
  },
  {
   "cell_type": "code",
   "execution_count": null,
   "metadata": {},
   "outputs": [],
   "source": [
    "\n",
    "your_string.split()"
   ]
  },
  {
   "cell_type": "code",
   "execution_count": null,
   "metadata": {},
   "outputs": [],
   "source": [
    "your_string.split(sep='.')"
   ]
  },
  {
   "cell_type": "code",
   "execution_count": null,
   "metadata": {},
   "outputs": [],
   "source": [
    "' '.join(words)"
   ]
  },
  {
   "cell_type": "markdown",
   "metadata": {},
   "source": [
    "### Concept Check: Split, Sort and Join\n",
    "\n",
    "Write code to re-arrange the words in a (lower-case) sentence into alphabetical order.\n",
    "\n",
    "```\n",
    "my_string = \"the quick brown fox jumped over the lazy dog\"\n",
    "\n",
    "# becomes...\n",
    "\n",
    "'brown dog fox jumped lazy over quick the the'\n",
    "```"
   ]
  },
  {
   "cell_type": "code",
   "execution_count": null,
   "metadata": {},
   "outputs": [],
   "source": [
    "my_string = \"the quick brown fox jumped over the lazy dog\"\n",
    "\n",
    "# Write your code here\n"
   ]
  },
  {
   "cell_type": "markdown",
   "metadata": {},
   "source": [
    "## Sequence Types: Summary \n",
    "\n",
    "- Sequence Types include Strings, Lists and Tuples\n",
    "- They are 'ordered', meaning they preserve the order of their elements\n",
    "- Sequences `x` and `y` can be concatenated together (using `x+y`) and copied `N` times (using `x*N`)\n",
    "- Elements in the sequence `x` can be accessed using `x[0]`, `x[1]`, etc \n"
   ]
  }
 ],
 "metadata": {
  "kernelspec": {
   "display_name": "Python 3 (ipykernel)",
   "language": "python",
   "name": "python3"
  },
  "language_info": {
   "codemirror_mode": {
    "name": "ipython",
    "version": 3
   },
   "file_extension": ".py",
   "mimetype": "text/x-python",
   "name": "python",
   "nbconvert_exporter": "python",
   "pygments_lexer": "ipython3",
   "version": "3.9.12"
  }
 },
 "nbformat": 4,
 "nbformat_minor": 2
}
