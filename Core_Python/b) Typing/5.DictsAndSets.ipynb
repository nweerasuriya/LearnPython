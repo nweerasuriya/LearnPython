{
 "cells": [
  {
   "cell_type": "markdown",
   "metadata": {},
   "source": [
    "---\n",
    "# 5. Mapping Types\n",
    "---\n",
    "\n",
    "First, some notes on the terms 'maps' and 'dictionaries':\n",
    "    - 'Maps' refer to the data structure in computer science that stores key-value pairs\n",
    "    - The `dict` is the in-built python version of the above concept\n",
    "    - The `map` function is an in-built python function that produces a generator-like object \n",
    "\n",
    "Whereas the elements in sequences can be accessed with indices 0, 1, 2..., The elements in mapping\n",
    "- A mapping object represents an arbitrary collection of key-value pairs\n",
    "- Objects in the collection are indexed by keys\n",
    "- Keys in the dictionary need to be unique, and hashable.\n",
    "- All immutable types in Python are hashable"
   ]
  },
  {
   "cell_type": "markdown",
   "metadata": {},
   "source": [
    "## 5.1 Dictionary types \n"
   ]
  },
  {
   "cell_type": "code",
   "execution_count": 6,
   "metadata": {},
   "outputs": [
    {
     "name": "stdout",
     "output_type": "stream",
     "text": [
      "{'one': 'a', '1': 'b', 1: 'd', (1,): 'e'}\n"
     ]
    }
   ],
   "source": [
    "my_dictionary = {}\n",
    "\n",
    "my_dictionary['one'] = 'a'\n",
    "my_dictionary['1'] = 'b'\n",
    "my_dictionary[1] = 'c'\n",
    "my_dictionary[1.0] = 'd' # 1.0 is the same as 1, key-wise\n",
    "my_dictionary[(1,)] = 'e'\n",
    "print(my_dictionary)\n",
    "my_list = [1]\n",
    "#my_dictionary[my_list] = 'f' #error\n",
    "my_list.append(2)\n",
    "\n",
    "my_dictionary['alice'] =  ['data']\n"
   ]
  },
  {
   "cell_type": "code",
   "execution_count": 7,
   "metadata": {},
   "outputs": [
    {
     "data": {
      "text/plain": [
       "True"
      ]
     },
     "execution_count": 7,
     "metadata": {},
     "output_type": "execute_result"
    }
   ],
   "source": [
    "d1 = {'a':1, 'b':2}\n",
    "d2 = {'b':2, 'a':1}\n",
    "d1==d2"
   ]
  },
  {
   "cell_type": "markdown",
   "metadata": {},
   "source": [
    "###  Is a Python dictionary 'ordered'?\n",
    "\n",
    "officially, the python in-built dictionary is unordered, even though insertion order is preserved.\n",
    "\n",
    "This is because two dictionaries, with same key values but different order, will be evaluated to be equal to each other"
   ]
  },
  {
   "cell_type": "markdown",
   "metadata": {},
   "source": [
    "## 5.2 Set Types\n",
    "\n",
    "unordered collection of unique items. Common operations include:\n",
    "- difference\n",
    "- intersection\n",
    "- union\n",
    "- subset\n",
    "- disjoint checking\n"
   ]
  },
  {
   "cell_type": "code",
   "execution_count": 8,
   "metadata": {},
   "outputs": [
    {
     "name": "stdout",
     "output_type": "stream",
     "text": [
      "{'Henry', 'Charlie', 'Guy', 'Emily', 'Alice'}\n",
      "{'Dalraj', 'Bob', 'Figaro', 'Henry'}\n"
     ]
    }
   ],
   "source": [
    "# defining a set explicitly:\n",
    "\n",
    "my_set = {2, 3, 5, 7, 11}\n",
    "your_set = set()\n",
    "\n",
    "\n",
    "# from a list:\n",
    "\n",
    "my_list = []\n",
    "my_guest_list = ['Alice', 'Bob', 'Charlie', 'Dalraj', 'Emily', 'Figaro', 'Guy', 'Henry', 'Henry']\n",
    "my_guest_list = my_guest_list[::-1]\n",
    "set_a = set(my_guest_list[::2])\n",
    "set_b = set(my_guest_list[1::2])\n",
    "print(set_a)\n",
    "print(set_b)"
   ]
  },
  {
   "cell_type": "code",
   "execution_count": 9,
   "metadata": {},
   "outputs": [
    {
     "data": {
      "text/plain": [
       "{'Alice', 'Charlie', 'Emily', 'Guy'}"
      ]
     },
     "execution_count": 9,
     "metadata": {},
     "output_type": "execute_result"
    }
   ],
   "source": [
    "# difference -- all elements in first set not in second set:\n",
    "set_a.difference(set_b)"
   ]
  },
  {
   "cell_type": "code",
   "execution_count": 10,
   "metadata": {},
   "outputs": [
    {
     "data": {
      "text/plain": [
       "{'Alice', 'Bob', 'Charlie', 'Dalraj', 'Emily', 'Figaro', 'Guy', 'Henry'}"
      ]
     },
     "execution_count": 10,
     "metadata": {},
     "output_type": "execute_result"
    }
   ],
   "source": [
    "# union -- all elements in both sets\n",
    "set_a.union(set_b)"
   ]
  },
  {
   "cell_type": "code",
   "execution_count": 11,
   "metadata": {},
   "outputs": [
    {
     "data": {
      "text/plain": [
       "{'Henry'}"
      ]
     },
     "execution_count": 11,
     "metadata": {},
     "output_type": "execute_result"
    }
   ],
   "source": [
    "# intersection -- elements shared by both sets\n",
    "set_a.intersection(set_b)"
   ]
  },
  {
   "cell_type": "code",
   "execution_count": 12,
   "metadata": {},
   "outputs": [
    {
     "data": {
      "text/plain": [
       "False"
      ]
     },
     "execution_count": 12,
     "metadata": {},
     "output_type": "execute_result"
    }
   ],
   "source": [
    "# issubset\n",
    "{'Henrietta'}.issubset(set_a)"
   ]
  },
  {
   "cell_type": "code",
   "execution_count": 13,
   "metadata": {},
   "outputs": [],
   "source": [
    "# isdisjoint\n",
    "set_a.remove('Henry')\n"
   ]
  },
  {
   "cell_type": "code",
   "execution_count": 14,
   "metadata": {},
   "outputs": [
    {
     "data": {
      "text/plain": [
       "True"
      ]
     },
     "execution_count": 14,
     "metadata": {},
     "output_type": "execute_result"
    }
   ],
   "source": [
    "set_a\n",
    "set_b.isdisjoint(set_a)"
   ]
  },
  {
   "cell_type": "code",
   "execution_count": 15,
   "metadata": {},
   "outputs": [
    {
     "data": {
      "text/plain": [
       "{'AHenry', 'Alice', 'Charlie', 'Emily', 'Guy'}"
      ]
     },
     "execution_count": 15,
     "metadata": {},
     "output_type": "execute_result"
    }
   ],
   "source": [
    "set_a.add('AHenry')\n",
    "set_a\n"
   ]
  },
  {
   "cell_type": "markdown",
   "metadata": {},
   "source": [
    "## 5.3 'Hashable' Dictionary Keys and Set Members \n",
    "\n",
    "\n",
    "Keys in a dictionary (and members of a set) need to be hashable. All immutable types in Python are hashable."
   ]
  },
  {
   "cell_type": "code",
   "execution_count": 16,
   "metadata": {},
   "outputs": [
    {
     "ename": "TypeError",
     "evalue": "unhashable type: 'list'",
     "output_type": "error",
     "traceback": [
      "\u001b[1;31m---------------------------------------------------------------------------\u001b[0m",
      "\u001b[1;31mTypeError\u001b[0m                                 Traceback (most recent call last)",
      "Input \u001b[1;32mIn [16]\u001b[0m, in \u001b[0;36m<cell line: 2>\u001b[1;34m()\u001b[0m\n\u001b[0;32m      1\u001b[0m my_list \u001b[38;5;241m=\u001b[39m []\n\u001b[1;32m----> 2\u001b[0m my_set \u001b[38;5;241m=\u001b[39m {\u001b[38;5;241m1\u001b[39m,\u001b[38;5;241m2\u001b[39m,\u001b[38;5;241m3\u001b[39m, my_list}\n",
      "\u001b[1;31mTypeError\u001b[0m: unhashable type: 'list'"
     ]
    }
   ],
   "source": [
    "my_list = []\n",
    "my_set = {1,2,3, my_list} # error -- unhashable element!"
   ]
  },
  {
   "cell_type": "code",
   "execution_count": null,
   "metadata": {},
   "outputs": [],
   "source": [
    "my_set = {1,2,3, tuple(my_list)} # how to fix the above"
   ]
  },
  {
   "cell_type": "code",
   "execution_count": 17,
   "metadata": {},
   "outputs": [],
   "source": [
    "poker_hand1 = {'AC', 'KH', 'QH'}\n",
    "poker_hand2 = {'10H', '9C', '8S'}\n"
   ]
  },
  {
   "cell_type": "markdown",
   "metadata": {},
   "source": [
    "## 5.4 `frozenset`: an Immutable  `set`"
   ]
  },
  {
   "cell_type": "code",
   "execution_count": 18,
   "metadata": {},
   "outputs": [
    {
     "data": {
      "text/plain": [
       "{frozenset({'10H', '8S', '9C'}), frozenset({'AC', 'KH', 'QH'})}"
      ]
     },
     "execution_count": 18,
     "metadata": {},
     "output_type": "execute_result"
    }
   ],
   "source": [
    "#my_poker_hands = {poker_hand1, poker_hand2} # error\n",
    "my_poker_hands = {frozenset(poker_hand1), frozenset(poker_hand2)}\n",
    "my_poker_hands"
   ]
  }
 ],
 "metadata": {
  "kernelspec": {
   "display_name": "Python 3 (ipykernel)",
   "language": "python",
   "name": "python3"
  },
  "language_info": {
   "codemirror_mode": {
    "name": "ipython",
    "version": 3
   },
   "file_extension": ".py",
   "mimetype": "text/x-python",
   "name": "python",
   "nbconvert_exporter": "python",
   "pygments_lexer": "ipython3",
   "version": "3.9.12"
  }
 },
 "nbformat": 4,
 "nbformat_minor": 2
}
